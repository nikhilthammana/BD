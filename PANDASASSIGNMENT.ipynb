{
 "cells": [
  {
   "cell_type": "code",
   "execution_count": null,
   "id": "af9aab75",
   "metadata": {},
   "outputs": [],
   "source": [
    "Q1. How do you load a CSV file into a Pandas DataFrame?\n",
    "\n",
    "A)->A simple way to store big data sets is to use CSV files (comma separated files).\n",
    "  ->CSV files contains plain text and is a well know format that can be read by everyone including Pandas.\n",
    "  ->In our examples we will be using a CSV file called 'data.csv'.\n",
    "\n",
    "Example:\n",
    "\n",
    "import pandas as pd\n",
    "df=pd.read_csv('marketing_campaign_C.csv')\n",
    "print(df.to_string())\n",
    "using to_string method we can print entire data frame\n",
    "print(df)\n",
    "by using above method If you have a large DataFrame with many rows, Pandas will only return the first 5 rows, and the last 5 rows"
   ]
  },
  {
   "cell_type": "markdown",
   "id": "faa82d11",
   "metadata": {},
   "source": [
    "Q2. How do you check the data type of a column in a Pandas DataFrame?\n",
    "A)To check the data type in pandas DataFrame we can use the “dtype” attribute. The attribute returns a series with the data   type of each column.And the column names of the DataFrame are represented as the index of the resultant series object and   the corresponding data types are returned as values of the series object.\n",
    "  If any column has mixed data types are stored then the data type of the entire column is indicated as object dtype.\n"
   ]
  },
  {
   "cell_type": "code",
   "execution_count": 12,
   "id": "d8a20117",
   "metadata": {},
   "outputs": [
    {
     "name": "stdout",
     "output_type": "stream",
     "text": [
      "DataFrame:\n",
      "   Column1 Col2  Col3\n",
      "0     4.10    a     1\n",
      "1    23.43    w     8\n",
      "Column1    float64\n",
      "Col2        object\n",
      "Col3         int64\n",
      "dtype: object\n"
     ]
    }
   ],
   "source": [
    "import pandas as pd\n",
    "\n",
    "df = pd.DataFrame({'Column1':[4.1, 23.43], 'Col2':['a', 'w'], 'Col3':[1, 8]})\n",
    "\n",
    "print(\"DataFrame:\")\n",
    "print(df)\n",
    "\n",
    "# apply the dtype attribute\n",
    "result = df.dtypes\n",
    "\n",
    "print(result)"
   ]
  },
  {
   "cell_type": "code",
   "execution_count": null,
   "id": "ae31fb04",
   "metadata": {},
   "outputs": [],
   "source": [
    "Q3. How do you select rows from a Pandas DataFrame based on a condition?\n",
    "A)\n",
    "import pandas as pd\n",
    "\n",
    "data3={'Name':[\"Jai\",\"Anuj\",\"Jai\",\"Prince\"],\n",
    "       'Age':[27,24,22,32],\n",
    "       'Address':['Nagpur','Kanpur','Allahabad','Kannuaj'],\n",
    "       'Qualification':['MSC','MA','MCA','PHD'],\n",
    "       'Salary':[1231,2351,3282,4637]\n",
    "}\n",
    "df3=pd.DataFrame(data3,columns=['Name', 'Age', 'Address', 'Qualification','Salary'])\n",
    "print(df3)\n",
    "print(\"\"\"\"\"\"\"\"\"\"\"\"\"\"\"\"\"\")\n",
    "rdf3=df3[df3['Salary']>4000]\n",
    "print(rdf3)\n"
   ]
  },
  {
   "cell_type": "code",
   "execution_count": 44,
   "id": "5ae7b9ac",
   "metadata": {},
   "outputs": [
    {
     "data": {
      "text/html": [
       "<div>\n",
       "<style scoped>\n",
       "    .dataframe tbody tr th:only-of-type {\n",
       "        vertical-align: middle;\n",
       "    }\n",
       "\n",
       "    .dataframe tbody tr th {\n",
       "        vertical-align: top;\n",
       "    }\n",
       "\n",
       "    .dataframe thead th {\n",
       "        text-align: right;\n",
       "    }\n",
       "</style>\n",
       "<table border=\"1\" class=\"dataframe\">\n",
       "  <thead>\n",
       "    <tr style=\"text-align: right;\">\n",
       "      <th></th>\n",
       "      <th>Names</th>\n",
       "      <th>Age</th>\n",
       "      <th>Address</th>\n",
       "      <th>Qualification</th>\n",
       "      <th>Salary</th>\n",
       "    </tr>\n",
       "  </thead>\n",
       "  <tbody>\n",
       "    <tr>\n",
       "      <th>0</th>\n",
       "      <td>Jai</td>\n",
       "      <td>27</td>\n",
       "      <td>Nagpur</td>\n",
       "      <td>MSC</td>\n",
       "      <td>1231</td>\n",
       "    </tr>\n",
       "    <tr>\n",
       "      <th>1</th>\n",
       "      <td>Anuj</td>\n",
       "      <td>24</td>\n",
       "      <td>Kanpur</td>\n",
       "      <td>MA</td>\n",
       "      <td>2351</td>\n",
       "    </tr>\n",
       "    <tr>\n",
       "      <th>2</th>\n",
       "      <td>Jai</td>\n",
       "      <td>22</td>\n",
       "      <td>Allahabad</td>\n",
       "      <td>MCA</td>\n",
       "      <td>3282</td>\n",
       "    </tr>\n",
       "    <tr>\n",
       "      <th>3</th>\n",
       "      <td>Prince</td>\n",
       "      <td>32</td>\n",
       "      <td>Kannuaj</td>\n",
       "      <td>PHD</td>\n",
       "      <td>4637</td>\n",
       "    </tr>\n",
       "  </tbody>\n",
       "</table>\n",
       "</div>"
      ],
      "text/plain": [
       "    Names  Age    Address Qualification  Salary\n",
       "0     Jai   27     Nagpur           MSC    1231\n",
       "1    Anuj   24     Kanpur            MA    2351\n",
       "2     Jai   22  Allahabad           MCA    3282\n",
       "3  Prince   32    Kannuaj           PHD    4637"
      ]
     },
     "execution_count": 44,
     "metadata": {},
     "output_type": "execute_result"
    }
   ],
   "source": [
    "Q4. How do you rename columns in a Pandas DataFrame?\n",
    "import pandas as pd\n",
    "\n",
    "data3={'Name':[\"Jai\",\"Anuj\",\"Jai\",\"Prince\"],\n",
    "       'Age':[27,24,22,32],\n",
    "       'Address':['Nagpur','Kanpur','Allahabad','Kannuaj'],\n",
    "       'Qualification':['MSC','MA','MCA','PHD'],\n",
    "       'Salary':[1231,2351,3282,4637]\n",
    "}\n",
    "sd=pd.DataFrame(data3)\n",
    "sd.rename(columns = {'Name':'Names'}, inplace = True)\n",
    "sd"
   ]
  },
  {
   "cell_type": "code",
   "execution_count": 46,
   "id": "cb53ded9",
   "metadata": {},
   "outputs": [
    {
     "data": {
      "text/html": [
       "<div>\n",
       "<style scoped>\n",
       "    .dataframe tbody tr th:only-of-type {\n",
       "        vertical-align: middle;\n",
       "    }\n",
       "\n",
       "    .dataframe tbody tr th {\n",
       "        vertical-align: top;\n",
       "    }\n",
       "\n",
       "    .dataframe thead th {\n",
       "        text-align: right;\n",
       "    }\n",
       "</style>\n",
       "<table border=\"1\" class=\"dataframe\">\n",
       "  <thead>\n",
       "    <tr style=\"text-align: right;\">\n",
       "      <th></th>\n",
       "      <th>Names</th>\n",
       "      <th>Age</th>\n",
       "      <th>Address</th>\n",
       "      <th>Qualification</th>\n",
       "    </tr>\n",
       "  </thead>\n",
       "  <tbody>\n",
       "    <tr>\n",
       "      <th>0</th>\n",
       "      <td>Jai</td>\n",
       "      <td>27</td>\n",
       "      <td>Nagpur</td>\n",
       "      <td>MSC</td>\n",
       "    </tr>\n",
       "    <tr>\n",
       "      <th>1</th>\n",
       "      <td>Anuj</td>\n",
       "      <td>24</td>\n",
       "      <td>Kanpur</td>\n",
       "      <td>MA</td>\n",
       "    </tr>\n",
       "    <tr>\n",
       "      <th>2</th>\n",
       "      <td>Jai</td>\n",
       "      <td>22</td>\n",
       "      <td>Allahabad</td>\n",
       "      <td>MCA</td>\n",
       "    </tr>\n",
       "    <tr>\n",
       "      <th>3</th>\n",
       "      <td>Prince</td>\n",
       "      <td>32</td>\n",
       "      <td>Kannuaj</td>\n",
       "      <td>PHD</td>\n",
       "    </tr>\n",
       "  </tbody>\n",
       "</table>\n",
       "</div>"
      ],
      "text/plain": [
       "    Names  Age    Address Qualification\n",
       "0     Jai   27     Nagpur           MSC\n",
       "1    Anuj   24     Kanpur            MA\n",
       "2     Jai   22  Allahabad           MCA\n",
       "3  Prince   32    Kannuaj           PHD"
      ]
     },
     "execution_count": 46,
     "metadata": {},
     "output_type": "execute_result"
    }
   ],
   "source": [
    "Q5. How do you drop columns in a Pandas DataFrame?\n",
    "A)To drop a single column in a pandas dataframe, you can use the del command which is inbuilt in python.\n",
    "del sd['Salary']\n",
    "sd\n",
    "->multiple columns\n",
    "You can use the drop method of Dataframes to drop single or multiple columns\n",
    "df.drop(labels=['Salary', 'Age'], axis=1)"
   ]
  },
  {
   "cell_type": "markdown",
   "id": "40db1d53",
   "metadata": {},
   "source": [
    "Q6. How do you find the unique values in a column of a Pandas DataFrame?\n",
    "A)pandas.DataFrame().unique() method is used when we deal with a single column of a DataFrame and returns all unique elements of a column. The method returns a DataFrame containing the unique elements of a column, along with their corresponding index labels.\n",
    "sd[\"Names\"].unique()\n",
    "o/p:array(['Jai', 'Anuj', 'Prince'], dtype=object)"
   ]
  },
  {
   "cell_type": "markdown",
   "id": "55826113",
   "metadata": {},
   "source": [
    "Q7. How do you find the number of missing values in each column of a Pandas DataFrame?\n",
    "1)Use isnull() function to identify the missing values in the data frame\n",
    "2)Use sum() functions to get sum of all missing values per column.\n",
    "3)use sort_values(ascending=False) function to get columns with the missing values in descending order.\n",
    "4)Divide by len(df) to get % of missing values in each column.\n",
    "We can use pandas “isnull()” function to find out all the fields which have missing values. This will return True if a field has missing values and false if the field does not have missing values."
   ]
  },
  {
   "cell_type": "markdown",
   "id": "24fa2adb",
   "metadata": {},
   "source": [
    "Q8. How do you fill missing values in a Pandas DataFrame with a specific value?\n",
    "The fillna() method replaces the NULL values with a specified value.\n",
    "\n",
    "The fillna() method returns a new DataFrame object unless the inplace parameter is set to True, in that case the fillna() method does the replacing in the original DataFrame instead.\n",
    "\n",
    "Example\n",
    "\n",
    "import pandas as pd\n",
    "\n",
    "df = pd.read_csv('data.csv')\n",
    "\n",
    "newdf = df.fillna(222222)"
   ]
  },
  {
   "cell_type": "code",
   "execution_count": null,
   "id": "2640b7a1",
   "metadata": {},
   "outputs": [],
   "source": [
    "Q9. How do you concatenate two Pandas DataFrames?\n",
    "import pandas as pd\n",
    "# First DataFrame\n",
    "df1 = pd.DataFrame({'id': ['A01', 'A02', 'A03', 'A04'],\n",
    "                    'Name': ['ABC', 'PQR', 'DEF', 'GHI']})\n",
    "  \n",
    "# Second DataFrame\n",
    "df2 = pd.DataFrame({'id': ['B05', 'B06', 'B07', 'B08'],\n",
    "                    'Name': ['XYZ', 'TUV', 'MNO', 'JKL']})\n",
    "  \n",
    "  \n",
    "frames = [df1, df2]\n",
    "  \n",
    "result = pd.concat(frames)\n",
    "display(result)"
   ]
  },
  {
   "cell_type": "code",
   "execution_count": null,
   "id": "44c38788",
   "metadata": {},
   "outputs": [],
   "source": [
    "Q10. How do you merge two Pandas DataFrames on a specific column?\n",
    "\n",
    "import pandas as pd\n",
    "\n",
    "df1 = pd.DataFrame({'Name':['Raju', 'Rani', 'Geeta', 'Sita', 'Sohit'],\n",
    "                    'Marks':[80, 90, 75, 88, 59]})\n",
    "  \n",
    "\n",
    "df2 = pd.DataFrame({'Name':['Raju', 'Divya', 'Geeta', 'Sita'],\n",
    "                    'Grade':['A', 'A', 'B', 'A'],\n",
    "                    'Rank':[3, 1, 4, 2 ],\n",
    "                    'Gender':['Male', 'Female', 'Female', 'Female']})\n",
    "\n",
    "display(df1)\n",
    "  \n",
    "\n",
    "display(df2)\n",
    "\n",
    "df1.merge(df2[['Name', 'Grade', 'Rank']])"
   ]
  },
  {
   "cell_type": "markdown",
   "id": "5db04e63",
   "metadata": {},
   "source": [
    "Q11. How do you group data in a Pandas DataFrame by a specific column and apply an aggregation function?\n",
    "Dataframe.aggregate() function is used to apply some aggregation across one or more column. Aggregate using callable, string, dict, or list of string/callables. Most frequently used aggregations are:\n",
    "\n",
    "sum: Return the sum of the values for the requested axis\n",
    "min: Return the minimum of the values for the requested axis\n",
    "max: Return the maximum of the values for the requested axis\n",
    "\n",
    "import pandas as pd\n",
    "\n",
    "\n",
    "df = pd.read_csv(\"nba.csv\")\n",
    "\n",
    "df[:10]\n",
    "df.aggregate(['sum', 'min'])\n",
    "\n",
    "#method2\n",
    "\n",
    "import pandas as pd\n",
    "\n",
    "df = pd.read_csv(\"nba.csv\")\n",
    "\n",
    "df.aggregate({\"Number\":['sum', 'min'],\n",
    "\t\t\t\"Age\":['max', 'min'],\n",
    "\t\t\t\"Weight\":['min', 'sum'],\n",
    "\t\t\t\"Salary\":['sum']})\n"
   ]
  },
  {
   "cell_type": "markdown",
   "id": "7e2d3d2f",
   "metadata": {},
   "source": [
    "Q12. How do you pivot a Pandas DataFrame?\n",
    "The pivot() function is used to reshaped a given DataFrame organized by given index / column values. This function does not support data aggregation, multiple values will result in a MultiIndex in the columns."
   ]
  },
  {
   "cell_type": "code",
   "execution_count": 48,
   "id": "171f35f9",
   "metadata": {},
   "outputs": [
    {
     "data": {
      "text/html": [
       "<div>\n",
       "<style scoped>\n",
       "    .dataframe tbody tr th:only-of-type {\n",
       "        vertical-align: middle;\n",
       "    }\n",
       "\n",
       "    .dataframe tbody tr th {\n",
       "        vertical-align: top;\n",
       "    }\n",
       "\n",
       "    .dataframe thead th {\n",
       "        text-align: right;\n",
       "    }\n",
       "</style>\n",
       "<table border=\"1\" class=\"dataframe\">\n",
       "  <thead>\n",
       "    <tr style=\"text-align: right;\">\n",
       "      <th></th>\n",
       "      <th>A</th>\n",
       "      <th>B</th>\n",
       "      <th>C</th>\n",
       "    </tr>\n",
       "  </thead>\n",
       "  <tbody>\n",
       "    <tr>\n",
       "      <th>0</th>\n",
       "      <td>John</td>\n",
       "      <td>Masters</td>\n",
       "      <td>27</td>\n",
       "    </tr>\n",
       "    <tr>\n",
       "      <th>1</th>\n",
       "      <td>Boby</td>\n",
       "      <td>Graduate</td>\n",
       "      <td>23</td>\n",
       "    </tr>\n",
       "    <tr>\n",
       "      <th>2</th>\n",
       "      <td>Mina</td>\n",
       "      <td>Graduate</td>\n",
       "      <td>21</td>\n",
       "    </tr>\n",
       "  </tbody>\n",
       "</table>\n",
       "</div>"
      ],
      "text/plain": [
       "      A         B   C\n",
       "0  John   Masters  27\n",
       "1  Boby  Graduate  23\n",
       "2  Mina  Graduate  21"
      ]
     },
     "execution_count": 48,
     "metadata": {},
     "output_type": "execute_result"
    }
   ],
   "source": [
    "df = pd.DataFrame({'A': ['John', 'Boby', 'Mina'],\n",
    "      'B': ['Masters', 'Graduate', 'Graduate'],\n",
    "      'C': [27, 23, 21]})\n",
    "  \n",
    "df"
   ]
  },
  {
   "cell_type": "code",
   "execution_count": 50,
   "id": "790ca5db",
   "metadata": {},
   "outputs": [
    {
     "data": {
      "text/html": [
       "<div>\n",
       "<style scoped>\n",
       "    .dataframe tbody tr th:only-of-type {\n",
       "        vertical-align: middle;\n",
       "    }\n",
       "\n",
       "    .dataframe tbody tr th {\n",
       "        vertical-align: top;\n",
       "    }\n",
       "\n",
       "    .dataframe thead th {\n",
       "        text-align: right;\n",
       "    }\n",
       "</style>\n",
       "<table border=\"1\" class=\"dataframe\">\n",
       "  <thead>\n",
       "    <tr style=\"text-align: right;\">\n",
       "      <th>B</th>\n",
       "      <th>Graduate</th>\n",
       "      <th>Masters</th>\n",
       "    </tr>\n",
       "    <tr>\n",
       "      <th>A</th>\n",
       "      <th></th>\n",
       "      <th></th>\n",
       "    </tr>\n",
       "  </thead>\n",
       "  <tbody>\n",
       "    <tr>\n",
       "      <th>Boby</th>\n",
       "      <td>23.0</td>\n",
       "      <td>NaN</td>\n",
       "    </tr>\n",
       "    <tr>\n",
       "      <th>John</th>\n",
       "      <td>NaN</td>\n",
       "      <td>27.0</td>\n",
       "    </tr>\n",
       "    <tr>\n",
       "      <th>Mina</th>\n",
       "      <td>21.0</td>\n",
       "      <td>NaN</td>\n",
       "    </tr>\n",
       "  </tbody>\n",
       "</table>\n",
       "</div>"
      ],
      "text/plain": [
       "B     Graduate  Masters\n",
       "A                      \n",
       "Boby      23.0      NaN\n",
       "John       NaN     27.0\n",
       "Mina      21.0      NaN"
      ]
     },
     "execution_count": 50,
     "metadata": {},
     "output_type": "execute_result"
    }
   ],
   "source": [
    "df.pivot('A', 'B', 'C')"
   ]
  },
  {
   "cell_type": "markdown",
   "id": "f9cab919",
   "metadata": {},
   "source": [
    "\n",
    "Q13. How do you change the data type of a column in a Pandas DataFrame?\n",
    "DataFrame.astype() method is used to cast pandas object to a specified dtype. This function also provides the capability to convert any suitable existing column to a categorical type.\n",
    "#importing pandas as pd\n",
    "import pandas as pd\n",
    "df = pd.DataFrame({\n",
    "\t'A': [1, 2, 3, 4, 5],\n",
    "\t'B': ['a', 'b', 'c', 'd', 'e'],\n",
    "\t'C': [1.1, '1.0', '1.3', 2, 5]})\n",
    "\n",
    "df = df.astype(str)\n",
    "print(df.dtypes)\n"
   ]
  },
  {
   "cell_type": "markdown",
   "id": "8419aae1",
   "metadata": {},
   "source": [
    "Q14. How do you sort a Pandas DataFrame by a specific column?\n",
    "To sort the DataFrame based on the values in a single column, you'll use . sort_values() . By default, this will return a new DataFrame sorted in ascending order. It does not modify the original DataFrame.\n",
    "new=df.sort_values(by=['Column_name'], ascending=True)\n",
    "new"
   ]
  },
  {
   "cell_type": "markdown",
   "id": "9f58adce",
   "metadata": {},
   "source": [
    "Q15. How do you create a copy of a Pandas DataFrame?\n",
    "The copy() method returns a copy of the DataFrame. By default, the copy is a \"deep copy\" meaning that any changes made in the original DataFrame will NOT be reflected in the copy.\n",
    "ea=df.copy()\n",
    "ea"
   ]
  },
  {
   "cell_type": "code",
   "execution_count": null,
   "id": "4c59774d",
   "metadata": {},
   "outputs": [],
   "source": [
    "Q16. How do you filter rows of a Pandas DataFrame by multiple conditions?\n",
    "A)# import module\n",
    "import pandas as pd\n",
    "\n",
    "# assign data\n",
    "dataFrame = pd.DataFrame({'Name': [' RACHEL ', ' MONICA ', ' PHOEBE ',\n",
    "              ' ROSS ', 'CHANDLER', ' JOEY '],\n",
    "             'Age': [30, 35, 37, 33, 34, 30],\n",
    "            'Salary': [100000, 93000, 88000, 120000, 94000, 95000],\n",
    "           'JOB': ['DESIGNER', 'CHEF', 'MASUS', 'PALENTOLOGY','IT', 'ARTIST']})\n",
    "# filter dataframe\n",
    "display(dataFrame.loc[(dataFrame['Salary']>=100000) & (dataFrame['Age']< 40) & (dataFrame['JOB'].str.startswith('D')),\n",
    "['Name','JOB']])\n"
   ]
  },
  {
   "cell_type": "markdown",
   "id": "1138180d",
   "metadata": {},
   "source": [
    "Q17. How do you calculate the mean of a column in a Pandas DataFrame?\n",
    "Pandas dataframe.mean() function return the mean of the values for the requested axis. If the method is applied on a pandas series object, then the method returns a scalar value which is the mean value of all the observations in the dataframe. If the method is applied on a pandas dataframe object, then the method returns a pandas series object which contains the mean of the values over the specified axis.\n",
    "#Even if we do not specify axis = 0,\n",
    "#the method will return the mean over\n",
    "#the index axis by default\n",
    "df = pd.DataFrame({\"A\":[12, 4, 5, 44, 1],\n",
    "                   \"B\":[5, 2, 54, 3, 2], \n",
    "                   \"C\":[20, 16, 7, 3, 8],\n",
    "                   \"D\":[14, 3, 17, 2, 6]})\n",
    "df.mean(axis = 0)\n"
   ]
  },
  {
   "cell_type": "code",
   "execution_count": null,
   "id": "de5ff110",
   "metadata": {},
   "outputs": [],
   "source": [
    "Q18. How do you calculate the standard deviation of a column in a Pandas DataFrame?\n",
    "import pandas as pd\n",
    "import numpy as np\n",
    " \n",
    "#Create a DataFrame\n",
    "d = {\n",
    "    'Name':['Alisa','Bobby','Cathrine','Madonna','Rocky','Sebastian','Jaqluine',\n",
    "   'Rahul','David','Andrew','Ajay','Teresa'],\n",
    "   'Score1':[62,47,55,74,31,77,85,63,42,32,71,57],\n",
    "   'Score2':[89,87,67,55,47,72,76,79,44,92,99,69],\n",
    "   'Score3':[56,86,77,45,73,62,74,89,71,67,97,68]}\n",
    "\n",
    "df = pd.DataFrame(d)\n",
    "answer= df.std()\n",
    "print(\"The standard deviations of the 3 columns are:\")\n",
    "print (answer)"
   ]
  },
  {
   "cell_type": "markdown",
   "id": "67413974",
   "metadata": {},
   "source": [
    "Q19. How do you calculate the correlation between two columns in a Pandas DataFrame?\n",
    "Correlation is used to summarize the strength and direction of the linear association between two quantitative variables. It is denoted by r and values between -1 and +1. A positive value for r indicates a positive association, and a negative value for r indicates a negative association.\n",
    "\n",
    "By using corr() function we can get the correlation between two columns in the dataframe.\n",
    "syntax:\n",
    "dataframe[‘first_column’].corr(dataframe[‘second_column’])"
   ]
  },
  {
   "cell_type": "markdown",
   "id": "a0adea85",
   "metadata": {},
   "source": [
    "Q20. How do you select specific columns in a DataFrame using their labels?\n",
    "A)Select Rows by Name in Pandas DataFrame using loc \n",
    "The .loc[] function selects the data by labels of rows or columns. It can select a subset of rows and columns. There are many ways to use this function.\n",
    "\n",
    "df = pd.DataFrame(employees,\n",
    "                columns =['Name', 'Age',\n",
    "                'City', 'Salary'])\n",
    " \n",
    "#Set 'Name' column as index\n",
    "#on a Dataframe\n",
    "df.set_index(\"Name\", inplace = True)\n",
    " \n",
    "#Using the operator .loc[]\n",
    "#to select single row\n",
    "result = df.loc[\"Stuti\"]\n",
    " "
   ]
  },
  {
   "cell_type": "code",
   "execution_count": null,
   "id": "67904fe1",
   "metadata": {},
   "outputs": [],
   "source": [
    "Q21. How do you select specific rows in a DataFrame using their indexes?\n",
    "If you’d like to select rows based on integer indexing, you can use the .iloc function.\n",
    "\n",
    "If you’d like to select rows based on label indexing, you can use the .loc function.\n",
    "#select the 3rd, 4th, and 5th rows of the DataFrame\n",
    "df.iloc[[2, 3, 4]]"
   ]
  },
  {
   "cell_type": "code",
   "execution_count": null,
   "id": "34123f0a",
   "metadata": {},
   "outputs": [],
   "source": [
    "Q22. How do you sort a DataFrame by a specific column?\n",
    "new=df.sort_values(by=['Column_name'], ascending=True)"
   ]
  },
  {
   "cell_type": "markdown",
   "id": "c1375374",
   "metadata": {},
   "source": [
    "\n",
    "Q23. How do you create a new column in a DataFrame based on the values of another column?\n",
    "You can add/append a new column to the DataFrame based on the values of another column using df.assign(), df.apply(), and, np.where() functions and return a new Dataframe after adding a new column."
   ]
  },
  {
   "cell_type": "code",
   "execution_count": null,
   "id": "631a22f3",
   "metadata": {},
   "outputs": [],
   "source": [
    "Q24. How do you remove duplicates from a DataFrame?\n",
    "import pandas as pd\n",
    "  \n",
    "data = {\n",
    "    \"A\": [\"TeamA\", \"TeamB\", \"TeamB\", \"TeamC\", \"TeamA\"],\n",
    "    \"B\": [50, 40, 40, 30, 50],\n",
    "    \"C\": [True, False, False, False, True]\n",
    "}\n",
    "  \n",
    "df = pd.DataFrame(data)\n",
    "  \n",
    "display(df.drop_duplicates())\n",
    "\n",
    "#removing all duplcates\n",
    "# length before adding row\n",
    "length1 = len(data)\n",
    "\n",
    "# manually inserting duplicate of a row of row 440\n",
    "data.loc[1001] = [data[\"First Name\"][440],\n",
    "\t\t\t\tdata[\"Gender\"][440],\n",
    "\t\t\t\tdata[\"Start Date\"][440],\n",
    "\t\t\t\tdata[\"Last Login Time\"][440],\n",
    "\t\t\t\tdata[\"Salary\"][440],\n",
    "\t\t\t\tdata[\"Bonus %\"][440],\n",
    "\t\t\t\tdata[\"Senior Management\"][440],\n",
    "\t\t\t\tdata[\"Team\"][440]]\n",
    "\n",
    "# length after adding row\n",
    "length2 = len(data)\n",
    "\n",
    "# sorting by first name\n",
    "data.sort_values(\"First Name\", inplace=True)\n",
    "\n",
    "# dropping duplicate values\n",
    "data.drop_duplicates(keep=False, inplace=True)\n",
    "\n",
    "# length after removing duplicates\n",
    "length3 = len(data)\n",
    "\n",
    "# printing all data frame lengths\n",
    "print(length1, length2, length3)\n"
   ]
  },
  {
   "cell_type": "markdown",
   "id": "93a619f9",
   "metadata": {},
   "source": [
    "Q25. What is the difference between .loc and .iloc in Pandas?\n",
    "The Difference Between .iloc and .loc\n",
    "The examples above illustrate the subtle difference between .iloc an .loc:\n",
    "\n",
    ".iloc selects rows based on an integer index. So, if you want to select the 5th row in a DataFrame, you would use df.iloc[[4]] since the first row is at index 0, the second row is at index 1, and so on.\n",
    ".loc selects rows based on a labeled index. So, if you want to select the row with an index label of 5, you would directly use df.loc[[5]]."
   ]
  },
  {
   "cell_type": "code",
   "execution_count": null,
   "id": "09e2b5a7",
   "metadata": {},
   "outputs": [],
   "source": []
  }
 ],
 "metadata": {
  "kernelspec": {
   "display_name": "Python 3 (ipykernel)",
   "language": "python",
   "name": "python3"
  },
  "language_info": {
   "codemirror_mode": {
    "name": "ipython",
    "version": 3
   },
   "file_extension": ".py",
   "mimetype": "text/x-python",
   "name": "python",
   "nbconvert_exporter": "python",
   "pygments_lexer": "ipython3",
   "version": "3.9.12"
  }
 },
 "nbformat": 4,
 "nbformat_minor": 5
}
