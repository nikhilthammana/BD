{
 "cells": [
  {
   "cell_type": "code",
   "execution_count": null,
   "id": "55fcaf98",
   "metadata": {},
   "outputs": [],
   "source": [
    "#Q26. What is a string? How can we declare string in Python?\n",
    "A)A string is a group of characters \n",
    "  syntax:\n",
    "        a=\"value\"\n",
    "        a='value'\n",
    "        a=\"\"\"value\"\"\"\n",
    "        a='''value'''"
   ]
  },
  {
   "cell_type": "code",
   "execution_count": 5,
   "id": "75adcd13",
   "metadata": {},
   "outputs": [
    {
     "name": "stdout",
     "output_type": "stream",
     "text": [
      "N\n",
      "Nikhil\n",
      "ih\n",
      "l\n",
      "h\n",
      "khi\n",
      "lihkiN\n"
     ]
    }
   ],
   "source": [
    "#Q27. How can we access the string using its index?\n",
    "a=\"Nikhil\"\n",
    "#  012345--positive index\n",
    "#  654321--negative index\n",
    "##positive index\n",
    "#print(startvalue:endvalue:step)\n",
    "print(a[0])\n",
    "print(a[::])\n",
    "print(a[1:5:2])\n",
    "##negative index\n",
    "print(a[-1])\n",
    "print(a[-3:-4:-1])\n",
    "print(a[-4:-1:1])\n",
    "print(a[::-1])"
   ]
  },
  {
   "cell_type": "code",
   "execution_count": 7,
   "id": "5a4ec776",
   "metadata": {},
   "outputs": [
    {
     "name": "stdout",
     "output_type": "stream",
     "text": [
      "iNeuron\n",
      "iNeuron\n"
     ]
    }
   ],
   "source": [
    "# Q28. Write a code to get the desired output of the following\n",
    "# ```\n",
    "# string = \"Big Data iNeuron\"\n",
    "# desired_output = \"iNeuron\"\n",
    "# ```\n",
    "stri = \"Big Data iNeuron\"\n",
    "print(stri.split()[2])\n",
    "#second method\n",
    "print(stri[9:])"
   ]
  },
  {
   "cell_type": "code",
   "execution_count": 9,
   "id": "62b3296b",
   "metadata": {},
   "outputs": [
    {
     "name": "stdout",
     "output_type": "stream",
     "text": [
      "norueNi\n",
      "norueNi\n"
     ]
    }
   ],
   "source": [
    "# Q29. Write a code to get the desired output of the following\n",
    "# ```\n",
    "# string = \"Big Data iNeuron\"\n",
    "# desired_output = \"norueNi\"\n",
    "# ```\n",
    "stri = \"Big Data iNeuron\"\n",
    "print(stri.split()[2][::-1])\n",
    "#second method\n",
    "print(stri[-1:-8:-1])"
   ]
  },
  {
   "cell_type": "code",
   "execution_count": 10,
   "id": "c7be958d",
   "metadata": {},
   "outputs": [
    {
     "name": "stdout",
     "output_type": "stream",
     "text": [
      "norueNi ataD giB\n"
     ]
    }
   ],
   "source": [
    "# Q30. Resverse the string given in the above question.\n",
    "print(stri[::-1])"
   ]
  },
  {
   "cell_type": "code",
   "execution_count": 12,
   "id": "69eb5f07",
   "metadata": {},
   "outputs": [
    {
     "ename": "NameError",
     "evalue": "name 'stri' is not defined",
     "output_type": "error",
     "traceback": [
      "\u001b[1;31m---------------------------------------------------------------------------\u001b[0m",
      "\u001b[1;31mNameError\u001b[0m                                 Traceback (most recent call last)",
      "Input \u001b[1;32mIn [12]\u001b[0m, in \u001b[0;36m<cell line: 2>\u001b[1;34m()\u001b[0m\n\u001b[0;32m      1\u001b[0m \u001b[38;5;66;03m# Q31. How can you delete entire string at once?\u001b[39;00m\n\u001b[1;32m----> 2\u001b[0m \u001b[38;5;28;01mdel\u001b[39;00m stri\n\u001b[0;32m      3\u001b[0m \u001b[38;5;28mprint\u001b[39m(stri)\n",
      "\u001b[1;31mNameError\u001b[0m: name 'stri' is not defined"
     ]
    }
   ],
   "source": [
    "# Q31. How can you delete entire string at once?\n",
    "del stri\n",
    "print(stri)"
   ]
  },
  {
   "cell_type": "code",
   "execution_count": null,
   "id": "6ddcc94a",
   "metadata": {},
   "outputs": [],
   "source": [
    "#Q32. What is escape sequence?\n",
    "->An escape sequence is a special character used in the form of backslash(\\) followed by a character that is required.\n",
    "->These characters are used to represent whitespace.\n",
    "->Whitespace gives characters like space, tab, formfeed, vertical tab."
   ]
  },
  {
   "cell_type": "code",
   "execution_count": 13,
   "id": "8670ccf2",
   "metadata": {},
   "outputs": [
    {
     "name": "stdout",
     "output_type": "stream",
     "text": [
      "iNeuron's Big Data Course\n"
     ]
    }
   ],
   "source": [
    "# Q33. How can you print the below string?\n",
    "# ```\n",
    "# 'iNeuron's Big Data Course'\n",
    "# ```\n",
    "x='iNeuron\\'s Big Data Course'\n",
    "print(x)"
   ]
  },
  {
   "cell_type": "code",
   "execution_count": null,
   "id": "fa0a8995",
   "metadata": {},
   "outputs": [],
   "source": [
    "#Q34. What is a list in Python?\n",
    "A)list is a data type in python\n",
    "-->list is capable to store different types(data types) of data\n",
    "-->lists are mutable\n",
    "-->lists are slower than tuple"
   ]
  },
  {
   "cell_type": "code",
   "execution_count": null,
   "id": "ad5a1973",
   "metadata": {},
   "outputs": [],
   "source": [
    "#Q36. How can we access the elements in a list?\n",
    "A)we can access the elememts by index --slicing\n",
    "#  012345--positive index\n",
    "#  654321--negative index\n",
    "#print(listname[startvalue:endvalue:step])\n",
    "\n"
   ]
  },
  {
   "cell_type": "code",
   "execution_count": 14,
   "id": "4ea9042e",
   "metadata": {},
   "outputs": [
    {
     "name": "stdout",
     "output_type": "stream",
     "text": [
      "iNeuron\n"
     ]
    }
   ],
   "source": [
    "# Q37. Write a code to access the word \"iNeuron\" from the given list.\n",
    "# ```\n",
    "# lst = [1,2,3,\"Hi\",[45,54, \"iNeuron\"], \"Big Data\"]\n",
    "# ``` \n",
    "lst = [1,2,3,\"Hi\",[45,54, \"iNeuron\"], \"Big Data\"]\n",
    "#index 0 1 2  3          4               5\n",
    "#subindex--------- 0   1      2     -------------\n",
    "print(lst[4][2])"
   ]
  },
  {
   "cell_type": "code",
   "execution_count": 16,
   "id": "93747478",
   "metadata": {},
   "outputs": [
    {
     "name": "stdout",
     "output_type": "stream",
     "text": [
      "welcome to ineuron\n",
      "['welcome', 'to', 'ineuron']\n",
      "3\n"
     ]
    }
   ],
   "source": [
    "# Q38. Take a list as an input from the user and find the length of the list.\n",
    "#string\n",
    "li=input().split()\n",
    "print(li)\n",
    "print(len(li))"
   ]
  },
  {
   "cell_type": "code",
   "execution_count": 18,
   "id": "f2dcaf07",
   "metadata": {},
   "outputs": [
    {
     "name": "stdout",
     "output_type": "stream",
     "text": [
      "1 2 3 4 5 6\n",
      "['1', '2', '3', '4', '5', '6']\n",
      "6\n"
     ]
    }
   ],
   "source": [
    "#integer\n",
    "li=list(i for i in input().split())\n",
    "print(li)\n",
    "print(len(li))"
   ]
  },
  {
   "cell_type": "code",
   "execution_count": 20,
   "id": "be205177",
   "metadata": {},
   "outputs": [
    {
     "name": "stdout",
     "output_type": "stream",
     "text": [
      "['Welcome', 'to', 'Big', 'Data', 'course']\n"
     ]
    }
   ],
   "source": [
    "# Q39. Add the word \"Big\" in the 3rd index of the given list.\n",
    "# ```\n",
    "# lst = [\"Welcome\", \"to\", \"Data\", \"course\"]\n",
    "# ```\n",
    "lst = [\"Welcome\", \"to\", \"Data\", \"course\"]\n",
    "B=\"Big\"\n",
    "lst.insert(2,B)\n",
    "print(lst)"
   ]
  },
  {
   "cell_type": "code",
   "execution_count": null,
   "id": "07027f33",
   "metadata": {},
   "outputs": [],
   "source": [
    "#Q40. What is a tuple? How is it different from list?\n",
    "1)tuple is a datatype in python\n",
    "2)tuples are immutable\n",
    "3)tuples are faster than list\n",
    "syntax-->a=()"
   ]
  },
  {
   "cell_type": "code",
   "execution_count": 27,
   "id": "27590458",
   "metadata": {},
   "outputs": [
    {
     "name": "stdout",
     "output_type": "stream",
     "text": [
      "1 2 3 4\n",
      "<class 'tuple'>\n",
      "<class 'tuple'>\n"
     ]
    }
   ],
   "source": [
    "#Q41. How can you create a tuple in Python?\n",
    "a=tuple(input())\n",
    "print(type(a))\n",
    "a=1,2\n",
    "print(type(a))"
   ]
  },
  {
   "cell_type": "code",
   "execution_count": null,
   "id": "8c698514",
   "metadata": {},
   "outputs": [],
   "source": [
    "#Q42. Create a tuple and try to add your name in the tuple. Are you able to do it? Support your answer with reason.\n",
    "A)we cannot insert or add name after creating a tuple because tuples are immutable"
   ]
  },
  {
   "cell_type": "code",
   "execution_count": 29,
   "id": "b3ef31ce",
   "metadata": {},
   "outputs": [
    {
     "name": "stdout",
     "output_type": "stream",
     "text": [
      "(1, 2, 3, 3, 4, 5) <class 'tuple'>\n"
     ]
    }
   ],
   "source": [
    "#Q43. Can two tuple be appended. If yes, write a code for it. If not, why?\n",
    "# A)no because tuples are immutable we cant make changes after creating a tuple\n",
    "# -->but we can concatenate serveral tuples by using + operator. the old object is still present at this point and\n",
    "#    new object is created\n",
    "s1=(1,2,3)\n",
    "s2=(3,4,5)\n",
    "s1=s1+s2\n",
    "print(s1,type(s1))\n"
   ]
  },
  {
   "cell_type": "code",
   "execution_count": 30,
   "id": "c981d337",
   "metadata": {},
   "outputs": [
    {
     "name": "stdout",
     "output_type": "stream",
     "text": [
      "1 2 \"nikhil\" 4 5 \"hi\"\n",
      "6\n"
     ]
    }
   ],
   "source": [
    "#Q44. Take a tuple as an input and print the count of elements in it.\n",
    "tup=tuple(input().split())\n",
    "print(len(tup))\n"
   ]
  },
  {
   "cell_type": "code",
   "execution_count": null,
   "id": "90fc531f",
   "metadata": {},
   "outputs": [],
   "source": [
    "#Q45. What are sets in Python?\n",
    "A)set is a another data type in python\n",
    "-->by using sets we can remove duplicates\n",
    "-->sets are unordered ,unindexed,\n",
    "-->sets are mutable\n",
    "-->sets are represented by {}\n",
    "-->sets are used to store mutliple types of data\n"
   ]
  },
  {
   "cell_type": "code",
   "execution_count": 31,
   "id": "2933352e",
   "metadata": {},
   "outputs": [
    {
     "name": "stdout",
     "output_type": "stream",
     "text": [
      "<class 'set'>\n"
     ]
    }
   ],
   "source": [
    "#Q46. How can you create a set?\n",
    "#by using set \n",
    "a=set()\n",
    "print(type(a))"
   ]
  },
  {
   "cell_type": "code",
   "execution_count": 33,
   "id": "f1daa67f",
   "metadata": {},
   "outputs": [
    {
     "name": "stdout",
     "output_type": "stream",
     "text": [
      "{'iNeuron'} <class 'set'>\n"
     ]
    }
   ],
   "source": [
    "#Q47. Create a set and add \"iNeuron\" in your set.\n",
    "b=set()\n",
    "b.add(\"iNeuron\")\n",
    "print(b,type(b))"
   ]
  },
  {
   "cell_type": "code",
   "execution_count": 34,
   "id": "0ea45bd4",
   "metadata": {},
   "outputs": [
    {
     "name": "stdout",
     "output_type": "stream",
     "text": [
      "{'Big data', 'course', 'iNeuron'}\n"
     ]
    }
   ],
   "source": [
    "#Q48. Try to add multiple values using add() function.\n",
    "b.add(\"Big data\")\n",
    "b.add(\"course\")\n",
    "print(b)"
   ]
  },
  {
   "cell_type": "code",
   "execution_count": 39,
   "id": "a1a97907",
   "metadata": {},
   "outputs": [
    {
     "name": "stdout",
     "output_type": "stream",
     "text": [
      "{'course', 'Nikhil', 'ineuorn', 'bigdata', 'nikhil'}\n"
     ]
    }
   ],
   "source": [
    "#Q49. How is update() different from add()?\n",
    "a={\"Nikhil\"}\n",
    "b={\"ineuorn\",\"bigdata\",\"course\",\"nikhil\"}\n",
    "#by using update we can add another set into set it removes duplicates if already present in previous list\n",
    "#add takes only one value \n",
    "a.update(b)\n",
    "print(a)"
   ]
  },
  {
   "cell_type": "code",
   "execution_count": 42,
   "id": "2167800a",
   "metadata": {},
   "outputs": [
    {
     "name": "stdout",
     "output_type": "stream",
     "text": [
      "set()\n"
     ]
    }
   ],
   "source": [
    "#Q50. What is clear() in sets?\n",
    "#by using clear function we can delete the elements in sets but set structure exist\n",
    "n={\"nikhil\"}\n",
    "n.clear()\n",
    "print(n)"
   ]
  },
  {
   "cell_type": "code",
   "execution_count": 5,
   "id": "cd452110",
   "metadata": {},
   "outputs": [
    {
     "name": "stdout",
     "output_type": "stream",
     "text": [
      "frozenset Object is :  <class 'frozenset'>\n",
      "frozenset Object is :  frozenset({'Geeks', 'for'})\n"
     ]
    }
   ],
   "source": [
    "#Q51. What is frozen set?\n",
    "# frozenset(): Method creates an immutable Set object from an iterable. It is a built-in Python function. \n",
    "# As it is a set object therefore we cannot have duplicate values in the frozenset.\n",
    "# passing an empty tuple\n",
    "nu = ()\n",
    "\n",
    "# converting tuple to frozenset\n",
    "fnum = frozenset(nu)\n",
    "\n",
    "# printing empty frozenset object\n",
    "print(\"frozenset Object is : \", type(fnum))\n",
    "\n",
    "#second method\n",
    "l = [\"Geeks\", \"for\", \"Geeks\"]\n",
    "\n",
    "# converting tuple to frozenset\n",
    "fnum = frozenset(l)\n",
    "\n",
    "# printing empty frozenset object\n",
    "print(\"frozenset Object is : \", fnum)\n"
   ]
  },
  {
   "cell_type": "code",
   "execution_count": null,
   "id": "afb9975e",
   "metadata": {},
   "outputs": [],
   "source": [
    "#Q52. How is frozen set different from set?\n",
    "Sets in Python is an unordered collection with no duplicate elements. Since sets are unordered,\n",
    "we cannot access items using indexes as we do in lists. It is a mutable object that can be modified. \n",
    "But there is another object type called frozen sets that is immutable.\n"
   ]
  },
  {
   "cell_type": "code",
   "execution_count": 6,
   "id": "9012513b",
   "metadata": {},
   "outputs": [
    {
     "name": "stdout",
     "output_type": "stream",
     "text": [
      "A U B: {2, 4, 5, 6, 7, 8}\n"
     ]
    }
   ],
   "source": [
    "#Q53. What is union() in sets? Explain via code.\n",
    "\"\"\"\n",
    "Python set Union() Method returns a new set which contains all the items from the original set.\n",
    "\n",
    "Union of two given sets is the set which contains all the elements of both the sets. \n",
    "The union of two given sets A and B is a set which consists of all the elements of A and all the elements \n",
    "of B such that no element is repeated.\n",
    "\"\"\"\n",
    "A = {2, 4, 5, 6}\n",
    "B = {4, 6, 7, 8}\n",
    "\n",
    "print(\"A U B:\", A.union(B))"
   ]
  },
  {
   "cell_type": "code",
   "execution_count": 8,
   "id": "1df979ba",
   "metadata": {},
   "outputs": [
    {
     "name": "stdout",
     "output_type": "stream",
     "text": [
      "A intersection B: {4, 6}\n"
     ]
    }
   ],
   "source": [
    "#Q54. What is intersection() in sets? Explain via code.\n",
    "\"\"\"\n",
    "A)Intersection of two list means we need to take all those elements which are common to both \n",
    "  of the initial lists and store them into another list.\n",
    "\"\"\"\n",
    "A = {2, 4, 5, 6}\n",
    "B = {4, 6, 7, 8}\n",
    "\n",
    "print(\"A intersection B:\", A.intersection(B))  "
   ]
  },
  {
   "cell_type": "code",
   "execution_count": null,
   "id": "81c5152a",
   "metadata": {},
   "outputs": [],
   "source": [
    "#Q55. What is dictionary ibn Python?\n",
    "A)dictionary is a data type in python,it consists of key value pairs\n",
    "-->keys are immutable and values are mutable\n",
    "-->we can't access dictionary through index "
   ]
  },
  {
   "cell_type": "code",
   "execution_count": null,
   "id": "85ac6bb9",
   "metadata": {},
   "outputs": [],
   "source": [
    "#Q56. How is dictionary different from all other data structures.\n",
    "A)Differences from similar data structures Arrays arrays and dictionaries both store collections of data, \n",
    "but differ by how they are accessed. Items in an array are accessed by position (often a number) and hence have an order. \n",
    "Items in a dictionary are accessed by key and are unordered."
   ]
  },
  {
   "cell_type": "code",
   "execution_count": 12,
   "id": "8c5be61b",
   "metadata": {},
   "outputs": [
    {
     "name": "stdout",
     "output_type": "stream",
     "text": [
      "<class 'dict'>\n",
      "<class 'dict'>\n"
     ]
    }
   ],
   "source": [
    "#Q57. How can we delare a dictionary in Python?\n",
    "#A)we can create a dictionary by using {} or dict\n",
    "a={}\n",
    "print(type(a))\n",
    "a=dict([(1,2),(3,4),(5,6)])\n",
    "print(type(a))"
   ]
  },
  {
   "cell_type": "code",
   "execution_count": 14,
   "id": "4e09f322",
   "metadata": {},
   "outputs": [
    {
     "name": "stdout",
     "output_type": "stream",
     "text": [
      "<class 'dict'>\n"
     ]
    }
   ],
   "source": [
    "#Q58. What will the output of the following?\n",
    "#```\n",
    "var = {}\n",
    "print(type(var))\n",
    "#```"
   ]
  },
  {
   "cell_type": "code",
   "execution_count": 31,
   "id": "6df3ee27",
   "metadata": {},
   "outputs": [
    {
     "name": "stdout",
     "output_type": "stream",
     "text": [
      "{'name': 'nikhil', 'rollno': 557}\n",
      "{'name': 'nikhil', 'rollno': 557, 'english': 83, 'math': 95}\n",
      "{'name': 'nikhil', 'rollno': 557, 'english': 83, 'math': 95, 'address': 'mandapeta'}\n"
     ]
    }
   ],
   "source": [
    "#Q59. How can we add an element in a dictionary?\n",
    "a={}\n",
    "a[\"name\"]=\"nikhil\"\n",
    "a[\"rollno\"]=557\n",
    "print(a)\n",
    "\n",
    "\n",
    "# adding a new item to the dictionary\n",
    "a.update([(\"english\",83),(\"math\",95)])\n",
    "\n",
    "# printing the dictionary\n",
    "print(a)\n",
    "\n",
    "# method-||\n",
    "a.setdefault(\"address\",\"mandapeta\")\n",
    "\n",
    "# printing the dictionary\n",
    "print(a)\n"
   ]
  },
  {
   "cell_type": "code",
   "execution_count": 19,
   "id": "334e6c55",
   "metadata": {},
   "outputs": [
    {
     "name": "stdout",
     "output_type": "stream",
     "text": [
      "dict_values(['nikhil', 557, 83, 95, 'mandapeta'])\n"
     ]
    }
   ],
   "source": [
    "#Q60. Create a dictionary and access all the values in that dictionary.\n",
    "print(a.values())"
   ]
  },
  {
   "cell_type": "code",
   "execution_count": 37,
   "id": "70c32bd2",
   "metadata": {},
   "outputs": [
    {
     "name": "stdout",
     "output_type": "stream",
     "text": [
      "{'course1': 'bigdata', 'course2': 'hadoop'}\n",
      "bigdata\n"
     ]
    }
   ],
   "source": [
    "#Q61. Create a nested dictionary and access all the element in the inner dictionary.\n",
    "c={'name': 'nikhil', 'rollno': 557, 'english': 83, 'math': 95, 'address': 'mandapeta','course':{\"course1\":\"bigdata\",\"course2\":\"hadoop\"}}\n",
    "print(c['course'])\n",
    "print(c['course']['course1'])"
   ]
  },
  {
   "cell_type": "code",
   "execution_count": 25,
   "id": "138511bf",
   "metadata": {},
   "outputs": [
    {
     "data": {
      "text/plain": [
       "'nikhil'"
      ]
     },
     "execution_count": 25,
     "metadata": {},
     "output_type": "execute_result"
    }
   ],
   "source": [
    "#Q62. What is the use of get() function?\n",
    "#A)get method is used to get value by key.if the value is not present then it gives none\n",
    "a.get(\"name\")"
   ]
  },
  {
   "cell_type": "code",
   "execution_count": 35,
   "id": "99ca1d4f",
   "metadata": {},
   "outputs": [
    {
     "data": {
      "text/plain": [
       "dict_items([('name', 'nikhil'), ('rollno', 557), ('english', 83), ('math', 95), ('address', 'mandapeta')])"
      ]
     },
     "execution_count": 35,
     "metadata": {},
     "output_type": "execute_result"
    }
   ],
   "source": [
    "#Q63. What is the use of items() function?\n",
    "#A)by using items method we can get all key value pairs in dictionary\n",
    "a.items()"
   ]
  },
  {
   "cell_type": "code",
   "execution_count": 41,
   "id": "f1216b93",
   "metadata": {},
   "outputs": [
    {
     "name": "stdout",
     "output_type": "stream",
     "text": [
      "{'name': 'nikhil', 'rollno': 557, 'english': 83, 'math': 95, 'address': 'mandapeta', 'course': {'course1': 'bigdata', 'course2': 'hadoop'}}\n",
      "{'name': 'nikhil', 'rollno': 557, 'english': 83, 'math': 95, 'address': 'mandapeta'}\n"
     ]
    }
   ],
   "source": [
    "#Q64. What is the use of pop() function?\n",
    "#A)pop() is used to delete the key\n",
    "print(c)\n",
    "c.pop('course')\n",
    "print(c)"
   ]
  },
  {
   "cell_type": "code",
   "execution_count": 44,
   "id": "67dab083",
   "metadata": {},
   "outputs": [
    {
     "name": "stdout",
     "output_type": "stream",
     "text": [
      "{'name': 'nikhil', 'rollno': 557, 'english': 83, 'math': 95}\n"
     ]
    }
   ],
   "source": [
    "#Q65. What is the use of popitem() function?\n",
    "#A)popitem() is used to delete the last keyvalue pair\n",
    "c.popitem()\n",
    "print(c)"
   ]
  },
  {
   "cell_type": "code",
   "execution_count": 47,
   "id": "62dbf196",
   "metadata": {},
   "outputs": [
    {
     "name": "stdout",
     "output_type": "stream",
     "text": [
      "dict_keys(['name', 'rollno', 'english', 'math'])\n"
     ]
    }
   ],
   "source": [
    "#Q66. What is the use of keys() function?\n",
    "#A)by using keys() we get all the keys from dictinary\n",
    "print(c.keys())"
   ]
  },
  {
   "cell_type": "code",
   "execution_count": 49,
   "id": "9fa4f1d1",
   "metadata": {},
   "outputs": [
    {
     "name": "stdout",
     "output_type": "stream",
     "text": [
      "dict_values(['nikhil', 557, 83, 95])\n"
     ]
    }
   ],
   "source": [
    "#Q67. What is the use of values() function?\n",
    "#A)by using values() we get all the values from dictinary\n",
    "print(c.values())"
   ]
  },
  {
   "cell_type": "code",
   "execution_count": null,
   "id": "87876bd8",
   "metadata": {},
   "outputs": [],
   "source": [
    "#Q68. What are loops in Python?\n",
    "A)loops means repeating something over and over until a particular condition is satisfied\n"
   ]
  },
  {
   "cell_type": "code",
   "execution_count": null,
   "id": "5bf4fada",
   "metadata": {},
   "outputs": [],
   "source": [
    "#Q69. How many type of loop are there in Python?\n",
    "-->for loop\n",
    "-->while loop"
   ]
  },
  {
   "cell_type": "code",
   "execution_count": null,
   "id": "15c0a462",
   "metadata": {},
   "outputs": [],
   "source": [
    "#Q70. What is the difference between for and while loops?\n",
    "A)we use for loop when we know start and end condition\n",
    "-->if we dont know ending value then we use while loop"
   ]
  },
  {
   "cell_type": "code",
   "execution_count": null,
   "id": "7cc480c1",
   "metadata": {},
   "outputs": [],
   "source": [
    "#Q71. What is the use of continue statement?\n",
    "A)The continue statement in Python returns the control to the beginning of the while loop.\n",
    "-->The continue statement rejects all the remaining statements in the current iteration of the loop and moves the control \n",
    "   back to the top of the loop.\n",
    "The continue statement can be used in both while and for loops."
   ]
  },
  {
   "cell_type": "code",
   "execution_count": null,
   "id": "4c28b636",
   "metadata": {},
   "outputs": [],
   "source": [
    "#Q72. What is the use of break statement?\n",
    "A)The break statement in Python terminates the current loop"
   ]
  },
  {
   "cell_type": "code",
   "execution_count": null,
   "id": "f2f6d8b9",
   "metadata": {},
   "outputs": [],
   "source": [
    "#Q73. What is the use of pass statement?\n",
    "A)The pass statement in Python is used when a statement is required syntactically but you do not want \n",
    "any command or code to execute."
   ]
  },
  {
   "cell_type": "code",
   "execution_count": null,
   "id": "75a9932a",
   "metadata": {},
   "outputs": [],
   "source": [
    "#Q74. What is the use of range() function?\n",
    "A)range:he Python range() function returns the sequence of the given number between the given range. The most common use \n",
    "  of it is to iterate sequence type (Python range() List, string, etc. ) with for and while loop using Python."
   ]
  },
  {
   "cell_type": "code",
   "execution_count": 53,
   "id": "2ceea76e",
   "metadata": {},
   "outputs": [
    {
     "name": "stdout",
     "output_type": "stream",
     "text": [
      "('name', 'nikhil')\n",
      "('rollno', 557)\n",
      "('english', 83)\n",
      "('math', 95)\n",
      "('address', 'mandapeta')\n",
      "('course', {'course1': 'bigdata', 'course2': 'hadoop'})\n"
     ]
    }
   ],
   "source": [
    "#Q75. How can you loop over a dictionary?\n",
    "c={'name': 'nikhil', 'rollno': 557, 'english': 83, 'math': 95, 'address': 'mandapeta','course':{\"course1\":\"bigdata\",\"course2\":\"hadoop\"}}\n",
    "for i in c.items():\n",
    "    print(i)"
   ]
  },
  {
   "cell_type": "code",
   "execution_count": 2,
   "id": "1e7138da",
   "metadata": {},
   "outputs": [
    {
     "name": "stdout",
     "output_type": "stream",
     "text": [
      "5\n",
      "120\n"
     ]
    }
   ],
   "source": [
    "#Q76. Write a Python program to find the factorial of a given number.\n",
    "a=int(input())\n",
    "j=1\n",
    "for i in range(1,a+1):\n",
    "    j=j*i\n",
    "print(j)\n",
    "    "
   ]
  },
  {
   "cell_type": "code",
   "execution_count": 3,
   "id": "2d7127cf",
   "metadata": {},
   "outputs": [
    {
     "name": "stdout",
     "output_type": "stream",
     "text": [
      "120\n"
     ]
    }
   ],
   "source": [
    "def fact(n):\n",
    "    if n==1:\n",
    "        return n\n",
    "    else:\n",
    "        return n*fact(n-1)\n",
    "print(fact(5))"
   ]
  },
  {
   "cell_type": "code",
   "execution_count": 4,
   "id": "ea08782f",
   "metadata": {},
   "outputs": [
    {
     "name": "stdout",
     "output_type": "stream",
     "text": [
      "5\n",
      "6\n",
      "7\n",
      "2.1\n"
     ]
    }
   ],
   "source": [
    "#Q77. Write a Python program to calculate the simple interest. Formula to calculate simple interest is SI = (P*R*T)/100\n",
    "a=int(input())\n",
    "b=int(input())\n",
    "c=int(input())\n",
    "SI=(a*b*c)/100\n",
    "print(SI)"
   ]
  },
  {
   "cell_type": "code",
   "execution_count": 9,
   "id": "348ce7ff",
   "metadata": {},
   "outputs": [
    {
     "name": "stdout",
     "output_type": "stream",
     "text": [
      "5\n",
      "6\n",
      "4\n",
      "1\n"
     ]
    }
   ],
   "source": [
    "#Q78. Write a Python program to calculate the compound interest. Formula of compound interest is A = P(1+ R/100)^t.\n",
    "P=int(input())\n",
    "R=int(input())\n",
    "t=int(input())\n",
    "CI= P*(1+ int(R/100))^t\n",
    "print(CI)\n"
   ]
  },
  {
   "cell_type": "code",
   "execution_count": 21,
   "id": "41b869f5",
   "metadata": {},
   "outputs": [
    {
     "name": "stdout",
     "output_type": "stream",
     "text": [
      "5\n",
      "a is prime number\n"
     ]
    }
   ],
   "source": [
    "#Q79. Write a Python program to check if a number is prime or not.\n",
    "a=int(input())\n",
    "if(a<=2):\n",
    "    print(\"Not prime number\")\n",
    "else:\n",
    "    for i in range(2,a):\n",
    "        if a%i==0:\n",
    "            print(\"a is not a prime\")\n",
    "            break\n",
    "    else:\n",
    "        print(\"a is prime number\")"
   ]
  },
  {
   "cell_type": "code",
   "execution_count": 18,
   "id": "01481e57",
   "metadata": {},
   "outputs": [
    {
     "name": "stdout",
     "output_type": "stream",
     "text": [
      "132\n",
      "not armstrong\n"
     ]
    }
   ],
   "source": [
    "#Q80. Write a Python program to check Armstrong Number.\n",
    "a=int(input())\n",
    "b=a\n",
    "rev=0\n",
    "c=len(str(a))\n",
    "while(a!=0):\n",
    "    s=a%10\n",
    "    rev=rev+s**c\n",
    "    a=a//10\n",
    "if b==rev:\n",
    "    print(\"armstrong\")\n",
    "else:\n",
    "    print(\"not armstrong\")"
   ]
  },
  {
   "cell_type": "code",
   "execution_count": 23,
   "id": "61b12e3c",
   "metadata": {},
   "outputs": [
    {
     "name": "stdout",
     "output_type": "stream",
     "text": [
      "8\n",
      "0\n",
      "1\n",
      "1\n",
      "2\n",
      "3\n",
      "5\n",
      "8\n",
      "13\n",
      "the 8'th fibonacci series is 21\n"
     ]
    }
   ],
   "source": [
    "#Q81. Write a Python program to find the n-th Fibonacci Number.\n",
    "n=int(input())\n",
    "first=0\n",
    "second=1\n",
    "for i in range(1,n+1):\n",
    "    print(first)\n",
    "    temp=first+second\n",
    "    second=first\n",
    "    first=temp\n",
    "\n",
    "print(f'the {n}\\'th fibonacci series is',first)\n",
    "    \n",
    "    "
   ]
  },
  {
   "cell_type": "code",
   "execution_count": 24,
   "id": "695e91c2",
   "metadata": {},
   "outputs": [
    {
     "name": "stdout",
     "output_type": "stream",
     "text": [
      "[6, 2, 3, 4, 5, 1]\n"
     ]
    }
   ],
   "source": [
    "#Q82. Write a Python program to interchange the first and last element in a list.\n",
    "a=[1,2,3,4,5,6]\n",
    "a[-1],a[0]=a[0],a[-1]\n",
    "print(a)"
   ]
  },
  {
   "cell_type": "code",
   "execution_count": 28,
   "id": "96970fc7",
   "metadata": {},
   "outputs": [
    {
     "name": "stdout",
     "output_type": "stream",
     "text": [
      "11\n",
      "10\n",
      "11\n",
      "10\n",
      "11\n",
      "10\n",
      "11\n",
      "10\n"
     ]
    }
   ],
   "source": [
    "#Q83. Write a Python program to swap two elements in a list.\n",
    "a=10\n",
    "b=11\n",
    "a,b=b,a\n",
    "print(a)\n",
    "print(b)\n",
    "#method -2\n",
    "a=10\n",
    "b=11\n",
    "temp=a\n",
    "a=b\n",
    "b=temp\n",
    "print(a)\n",
    "print(b)\n",
    "#method 3\n",
    "a=10\n",
    "b=11\n",
    "a=a+b\n",
    "b=a-b\n",
    "a=a-b\n",
    "print(a)\n",
    "print(b)\n",
    "#method 4\n",
    "a=10\n",
    "b=11\n",
    "a=a*b\n",
    "b=a//b\n",
    "a=a//b\n",
    "print(a)\n",
    "print(b)"
   ]
  },
  {
   "cell_type": "code",
   "execution_count": 29,
   "id": "ad4a8b25",
   "metadata": {},
   "outputs": [
    {
     "name": "stdout",
     "output_type": "stream",
     "text": [
      "8\n",
      "8\n"
     ]
    }
   ],
   "source": [
    "#Q84. Write a Python program to find N largest element from a list.\n",
    "l=[1,2,3,4,6,7,8]\n",
    "print(max(l))\n",
    "#second method\n",
    "b=l[0]\n",
    "for i in l:\n",
    "    if i>=b:\n",
    "        b=i\n",
    "print(b)"
   ]
  },
  {
   "cell_type": "code",
   "execution_count": 120,
   "id": "8c173db9",
   "metadata": {},
   "outputs": [
    {
     "name": "stdout",
     "output_type": "stream",
     "text": [
      "[10, 30, 60, 100]\n"
     ]
    }
   ],
   "source": [
    "#Q85. Write a Python program to find cumulative sum of a list.\n",
    "l=[10,20,30,40]\n",
    "for i in range(1,len(l)):\n",
    "    l[i]=l[i]+l[i-1]\n",
    "print(l)    "
   ]
  },
  {
   "cell_type": "code",
   "execution_count": 48,
   "id": "f597ad11",
   "metadata": {},
   "outputs": [
    {
     "name": "stdout",
     "output_type": "stream",
     "text": [
      "palindrome\n",
      "palindrome\n"
     ]
    }
   ],
   "source": [
    "#Q86. Write a Python program to check if a string is palindrome or not.\n",
    "a=\"madam\"\n",
    "if a==a[::-1]:\n",
    "    print(\"palindrome\")\n",
    "else:\n",
    "    print(\"Not palindrome\")\n",
    "\n",
    "#method 2\n",
    "rev=\"\"\n",
    "for i in a:\n",
    "    rev=i+rev\n",
    "if a==rev:\n",
    "    print(\"palindrome\")\n",
    "else:\n",
    "    print(\"Not palindrome\")\n"
   ]
  },
  {
   "cell_type": "code",
   "execution_count": 54,
   "id": "54c0ff45",
   "metadata": {},
   "outputs": [
    {
     "name": "stdout",
     "output_type": "stream",
     "text": [
      "enter index element to remove2\n",
      "sting\n",
      "enter index element to remove3\n",
      "newtring\n"
     ]
    }
   ],
   "source": [
    "#Q87. Write a Python program to remove i'th element from a string.\n",
    "a=\"string\"\n",
    "###012345\n",
    "i=int(input(\"enter index element to remove\"))\n",
    "b=a[:i]+a[i+1:]\n",
    "print(b)\n",
    "\n",
    "#method 2\n",
    "\n",
    "a=\"newstring\"\n",
    "###012345678\n",
    "i=int(input(\"enter index element to remove\"))\n",
    "b=list(a)\n",
    "b.pop(i)\n",
    "print(''.join(b))\n",
    "\n",
    "\n"
   ]
  },
  {
   "cell_type": "code",
   "execution_count": 58,
   "id": "769ba492",
   "metadata": {},
   "outputs": [
    {
     "name": "stdout",
     "output_type": "stream",
     "text": [
      "Yes\n",
      "No\n"
     ]
    }
   ],
   "source": [
    "#Q88. Write a Python program to check if a substring is present in a given string.\n",
    "a=\"mango\"\n",
    "b=\"ang\"\n",
    "if b in a:\n",
    "    print(\"Yes\")\n",
    "else:\n",
    "    print(\"No\")\n",
    "\n",
    "a=\"mango\"\n",
    "b=\"ago\"\n",
    "if b in a:\n",
    "    print(\"Yes\")\n",
    "else:\n",
    "    print(\"No\")"
   ]
  },
  {
   "cell_type": "code",
   "execution_count": 118,
   "id": "30eb879e",
   "metadata": {},
   "outputs": [
    {
     "name": "stdout",
     "output_type": "stream",
     "text": [
      "hello\n",
      "welcome\n",
      "ineuron\n"
     ]
    }
   ],
   "source": [
    "#Q89. Write a Python program to find words which are greater than given length k.\n",
    "a=\"hi hello welcome to ineuron\"\n",
    "k=4\n",
    "for i in a.split():\n",
    "    if len(i)>=k:\n",
    "        print(i)\n",
    "        \n"
   ]
  },
  {
   "cell_type": "code",
   "execution_count": 59,
   "id": "3117dfd1",
   "metadata": {},
   "outputs": [
    {
     "name": "stdout",
     "output_type": "stream",
     "text": [
      "{24, 21, 29, 22}\n"
     ]
    }
   ],
   "source": [
    "#Q90. Write a Python program to extract unquire dictionary values.\n",
    "a={\"value1\":22,\"value2\":24,\"value3\":29,\"value4\":21,\"value5\":22,\"value6\":24}\n",
    "print(set(a.values()))"
   ]
  },
  {
   "cell_type": "code",
   "execution_count": 111,
   "id": "e80d1c2e",
   "metadata": {},
   "outputs": [
    {
     "name": "stdout",
     "output_type": "stream",
     "text": [
      "{'value1': 22, 'value2': 24, 'value3': 29, 'value4': 21, 'value5': 22, 'value6': 24, 'value7': 26, 'value8': 20, 'value9': 39}\n"
     ]
    }
   ],
   "source": [
    "#Q91. Write a Python program to merge two dictionary.\n",
    "a={\"value1\":22,\"value2\":24,\"value3\":29,\"value4\":21,\"value5\":22,\"value6\":24}\n",
    "b={\"value7\":26,\"value8\":20,\"value9\":39}\n",
    "a.update(b)\n",
    "print(a)"
   ]
  },
  {
   "cell_type": "code",
   "execution_count": 67,
   "id": "55b56920",
   "metadata": {},
   "outputs": [
    {
     "name": "stdout",
     "output_type": "stream",
     "text": [
      "{'name': 'nikhil', 'rollno': 557, 'department': 'cse'}\n",
      "{'Sachin': 10, 'MSD': 7, 'Kohli': 18, 'Rohit': 45}\n"
     ]
    }
   ],
   "source": [
    "#Q92. Write a Python program to convert a list of tuples into dictionary.\n",
    "l1=[('name','nikhil'),('rollno',557),('department','cse')]\n",
    "print(dict(l1))\n",
    "l2=[('Sachin', 10), ('MSD', 7), ('Kohli', 18), ('Rohit', 45)]\n",
    "print(dict(l2))"
   ]
  },
  {
   "cell_type": "code",
   "execution_count": 70,
   "id": "0e997f3b",
   "metadata": {},
   "outputs": [
    {
     "name": "stdout",
     "output_type": "stream",
     "text": [
      "[(9, 729), (5, 125), (6, 216)]\n"
     ]
    }
   ],
   "source": [
    "# Q93. Write a Python program to create a list of tuples from given list having number and its cube in each tuple.\n",
    "# ```\n",
    "# Input: list = [9, 5, 6]\n",
    "# Output: [(9, 729), (5, 125), (6, 216)]\n",
    "li=[9,5,6]\n",
    "newli=[]\n",
    "for i in li:\n",
    "    b=(i,i**3)\n",
    "    newli.append(b)\n",
    "print(newli)"
   ]
  },
  {
   "cell_type": "code",
   "execution_count": 71,
   "id": "e4c92673",
   "metadata": {},
   "outputs": [
    {
     "name": "stdout",
     "output_type": "stream",
     "text": [
      "(7, 2, 7, 8)\n"
     ]
    }
   ],
   "source": [
    "# Q94. Write a Python program to get all combinations of 2 tuples.\n",
    "# ```\n",
    "# Input : test_tuple1 = (7, 2), test_tuple2 = (7, 8)\n",
    "# Output : [(7, 7), (7, 8), (2, 7), (2, 8), (7, 7), (7, 2), (8, 7), (8, 2)]\n",
    "# ```\n",
    "test_tuple1 = (7, 2)\n",
    "test_tuple2 = (7, 8)\n",
    "test_mixtuple=test_tuple1+test_tuple2\n",
    "print(test_mixtuple)"
   ]
  },
  {
   "cell_type": "code",
   "execution_count": 93,
   "id": "f500d4d2",
   "metadata": {},
   "outputs": [
    {
     "name": "stdout",
     "output_type": "stream",
     "text": [
      "[('Geeks', 8), ('for', 24), ('Geeks', 30)]\n"
     ]
    }
   ],
   "source": [
    "# Q95. Write a Python program to sort a list of tuples by second item.\n",
    "# ```\n",
    "# Input : [('for', 24), ('Geeks', 8), ('Geeks', 30)] \n",
    "# Output : [('Geeks', 8), ('for', 24), ('Geeks', 30)]\n",
    "# ```\n",
    "Input2=[('for', 24), ('Geeks', 8), ('Geeks', 30)] \n",
    "for i in range(len(Input2)):\n",
    "    for j in range(len(Input2)-i-1):\n",
    "        if Input2[j][1]>=Input2[j+1][1]:\n",
    "            temp=Input2[j]\n",
    "            Input2[j]=Input2[j+1]\n",
    "            Input2[j+1]=temp\n",
    "print(Input2)\n",
    "    \n"
   ]
  },
  {
   "cell_type": "code",
   "execution_count": 97,
   "id": "5600eb39",
   "metadata": {},
   "outputs": [
    {
     "name": "stdout",
     "output_type": "stream",
     "text": [
      "* \n",
      "* * \n",
      "* * * \n",
      "* * * * \n"
     ]
    }
   ],
   "source": [
    "# Q96. Write a python program to print below pattern.\n",
    "# ```\n",
    "# * \n",
    "# * * \n",
    "# * * * \n",
    "# * * * * \n",
    "# * * * * * \n",
    "# ```\n",
    "for i in range(1,5):\n",
    "    print('* '*i)"
   ]
  },
  {
   "cell_type": "code",
   "execution_count": 98,
   "id": "98b8b695",
   "metadata": {},
   "outputs": [
    {
     "name": "stdout",
     "output_type": "stream",
     "text": [
      "    *\n",
      "   **\n",
      "  ***\n",
      " ****\n"
     ]
    }
   ],
   "source": [
    "# Q97. Write a python program to print below pattern.\n",
    "# ```\n",
    "#     *\n",
    "#    **\n",
    "#   ***\n",
    "#  ****\n",
    "# *****\n",
    "# ```\n",
    "n=5\n",
    "for i in range(1,n):\n",
    "    print(\" \"*(n-i)+\"*\"*i)"
   ]
  },
  {
   "cell_type": "code",
   "execution_count": 99,
   "id": "96f91ed2",
   "metadata": {},
   "outputs": [
    {
     "name": "stdout",
     "output_type": "stream",
     "text": [
      "    * \n",
      "   * * \n",
      "  * * * \n",
      " * * * * \n"
     ]
    }
   ],
   "source": [
    "# Q98. Write a python program to print below pattern.\n",
    "# ```\n",
    "#     * \n",
    "#    * * \n",
    "#   * * * \n",
    "#  * * * * \n",
    "# * * * * * \n",
    "# ```\n",
    "for i in range(1,n):\n",
    "    print(\" \"*(n-i)+\"* \"*i)"
   ]
  },
  {
   "cell_type": "code",
   "execution_count": 102,
   "id": "707d4d89",
   "metadata": {},
   "outputs": [
    {
     "name": "stdout",
     "output_type": "stream",
     "text": [
      "1 \n",
      "1 2 \n",
      "1 2 3 \n",
      "1 2 3 4 \n",
      "1 2 3 4 5 \n"
     ]
    }
   ],
   "source": [
    "# Q99. Write a python program to print below pattern.\n",
    "# ```\n",
    "# 1 \n",
    "# 1 2 \n",
    "# 1 2 3 \n",
    "# 1 2 3 4 \n",
    "# 1 2 3 4 5\n",
    "# ```\n",
    "n=5\n",
    "for i in range(1,n+1):\n",
    "    for j in range(1,i+1):\n",
    "        print(j,end=\" \")\n",
    "    print()"
   ]
  },
  {
   "cell_type": "code",
   "execution_count": 105,
   "id": "c3db1a71",
   "metadata": {},
   "outputs": [
    {
     "name": "stdout",
     "output_type": "stream",
     "text": [
      "A \n",
      "B B \n",
      "C C C \n",
      "D D D D \n",
      "E E E E E \n"
     ]
    }
   ],
   "source": [
    "# Q100. Write a python program to print below pattern.\n",
    "# ```\n",
    "# A \n",
    "# B B \n",
    "# C C C \n",
    "# D D D D \n",
    "# E E E E E \n",
    "# ```\n",
    "n=5\n",
    "for i in range(1,n+1):\n",
    "    for j in range(1,i+1):\n",
    "        print(chr(65+i-1),end=\" \")\n",
    "    print()"
   ]
  },
  {
   "cell_type": "code",
   "execution_count": null,
   "id": "26fedd13",
   "metadata": {},
   "outputs": [],
   "source": []
  }
 ],
 "metadata": {
  "kernelspec": {
   "display_name": "Python 3 (ipykernel)",
   "language": "python",
   "name": "python3"
  },
  "language_info": {
   "codemirror_mode": {
    "name": "ipython",
    "version": 3
   },
   "file_extension": ".py",
   "mimetype": "text/x-python",
   "name": "python",
   "nbconvert_exporter": "python",
   "pygments_lexer": "ipython3",
   "version": "3.9.12"
  }
 },
 "nbformat": 4,
 "nbformat_minor": 5
}
