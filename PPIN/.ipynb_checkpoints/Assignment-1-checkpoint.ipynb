{
 "cells": [
  {
   "cell_type": "code",
   "execution_count": null,
   "id": "d77c16bf",
   "metadata": {},
   "outputs": [],
   "source": [
    "Q1. Given an array of integers nums and an integer target, return indices of the two numbers such that they add up to target.\n",
    "\n",
    "You may assume that each input would have exactly one solution, and you may not use the same element twice.\n",
    "\n",
    "You can return the answer in any order.\n",
    "\n",
    "Example:\n",
    "Input: nums = [2,7,11,15], target = 9\n",
    "Output0 [0,1]\n",
    "\n",
    "Explanation:Because nums[0] + nums[1] == 9, we return [0, 1]"
   ]
  },
  {
   "cell_type": "code",
   "execution_count": 2,
   "id": "30adb701",
   "metadata": {},
   "outputs": [
    {
     "name": "stdout",
     "output_type": "stream",
     "text": [
      "2,7,11,15\n",
      "9\n",
      "(0, 1)\n"
     ]
    }
   ],
   "source": [
    "def int_sum(nums,target):\n",
    "    for i in range(0,len(nums)-1):\n",
    "        if nums[i]+nums[i+1]==9:\n",
    "            return i,i+1\n",
    "\n",
    "nums=list(map(int,input().split(',')))\n",
    "target=int(input())\n",
    "print(int_sum(nums,target))\n",
    "        \n",
    "        "
   ]
  },
  {
   "cell_type": "code",
   "execution_count": 4,
   "id": "c40cbd2a",
   "metadata": {},
   "outputs": [
    {
     "name": "stdout",
     "output_type": "stream",
     "text": [
      "2,7,11,15\n",
      "9\n",
      "[0, 1]\n"
     ]
    }
   ],
   "source": [
    "def int_sum_m(nums, target):\n",
    "        seen = {}\n",
    "        for i, v in enumerate(nums):\n",
    "            remaining = target - v\n",
    "            if remaining in seen:\n",
    "                return [seen[remaining], i]\n",
    "            seen[v] = i\n",
    "        return []\n",
    "nums=list(map(int,input().split(',')))\n",
    "target=int(input())\n",
    "print(int_sum_m(nums,target))"
   ]
  },
  {
   "cell_type": "code",
   "execution_count": null,
   "id": "d36445df",
   "metadata": {},
   "outputs": [],
   "source": [
    "Q3.Given a sorted array of distinct integers and a target value, return the index if the target is found. If not, return the index where it would be if it were inserted in order.\n",
    "\n",
    "You must write an algorithm with O(log n) runtime complexity.\n",
    "\n",
    "Example 1:\n",
    "Input: nums = [1,3,5,6], target = 5\n",
    "\n",
    "Output: 2"
   ]
  },
  {
   "cell_type": "code",
   "execution_count": 9,
   "id": "1adb1068",
   "metadata": {},
   "outputs": [
    {
     "name": "stdout",
     "output_type": "stream",
     "text": [
      "1,3,5,6\n",
      "5\n",
      "2\n"
     ]
    }
   ],
   "source": [
    "def binary_search(nums,target):\n",
    "    l=0\n",
    "    r=len(nums)-1\n",
    "    \n",
    "    while(l<=r):\n",
    "        mid = l + (r - l) // 2\n",
    " \n",
    "        if nums[mid] == target:\n",
    "            return mid\n",
    "        elif nums[mid] < target:\n",
    "            l=mid + 1\n",
    "        else:\n",
    "            r=mid - 1\n",
    "    return -1\n",
    "        \n",
    "\n",
    "nums=list(map(int,input().split(',')))\n",
    "target=int(input())\n",
    "print(binary_search(nums,target))"
   ]
  },
  {
   "cell_type": "code",
   "execution_count": null,
   "id": "eb8a6d7a",
   "metadata": {},
   "outputs": [],
   "source": [
    "Q2.Given an integer array nums and an integer val, remove all occurrences of val in nums in-place. The order of the elements may be changed. Then return the number of elements in nums which are not equal to val.\n",
    "\n",
    "Consider the number of elements in nums which are not equal to val be k, to get accepted, you need to do the following things:\n",
    "\n",
    "- Change the array nums such that the first k elements of nums contain the elements which are not equal to val. The remaining elements of nums are not important as well as the size of nums.\n",
    "- Return k.\n",
    "\n",
    "Example :\n",
    "Input: nums = [3,2,2,3], val = 3\n",
    "Output: 2, nums = [2,2,_,_]\n",
    "\n",
    "Explanation: Your function should return k = 2, with the first two elements of nums being 2. It does not matter what you leave beyond the returned k (hence they are underscores)[\n"
   ]
  },
  {
   "cell_type": "code",
   "execution_count": 16,
   "id": "6d419ead",
   "metadata": {},
   "outputs": [
    {
     "name": "stdout",
     "output_type": "stream",
     "text": [
      "2\n"
     ]
    }
   ],
   "source": [
    "def rE(nums, val):\n",
    "    count = 0\n",
    "    for i in range(len(nums)):\n",
    "        if nums[i] != val:\n",
    "            nums[count] = nums[i]\n",
    "            count += 1\n",
    "    return count\n",
    "nums = [3,2,2,3]\n",
    "val = 3\n",
    "print(rE(nums,val))"
   ]
  },
  {
   "cell_type": "code",
   "execution_count": null,
   "id": "2e5c5da8",
   "metadata": {},
   "outputs": [],
   "source": [
    "Q4. You are given a large integer represented as an integer array digits, where each digits[i] is the ith digit of the integer. The digits are ordered from most significant to least significant in left-to-right order. The large integer does not contain any leading 0's.\n",
    "\n",
    "Increment the large integer by one and return the resulting array of digits.\n",
    "\n",
    "Example 1:\n",
    "Input: digits = [1,2,3]\n",
    "Output: [1,2,4]\n",
    "\n",
    "Explanation: The array represents the integer 123.\n",
    "\n",
    "Incrementing by one gives 123 + 1 = 124.\n",
    "Thus, the result should be [1,2,4]."
   ]
  },
  {
   "cell_type": "code",
   "execution_count": null,
   "id": "b892bf40",
   "metadata": {},
   "outputs": [],
   "source": []
  }
 ],
 "metadata": {
  "kernelspec": {
   "display_name": "Python 3 (ipykernel)",
   "language": "python",
   "name": "python3"
  },
  "language_info": {
   "codemirror_mode": {
    "name": "ipython",
    "version": 3
   },
   "file_extension": ".py",
   "mimetype": "text/x-python",
   "name": "python",
   "nbconvert_exporter": "python",
   "pygments_lexer": "ipython3",
   "version": "3.9.12"
  }
 },
 "nbformat": 4,
 "nbformat_minor": 5
}
