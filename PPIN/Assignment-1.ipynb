{
 "cells": [
  {
   "cell_type": "code",
   "execution_count": null,
   "id": "f0f2b254",
   "metadata": {},
   "outputs": [],
   "source": [
    "Q1. Given an array of integers nums and an integer target, return indices of the two numbers such that they add up to target.\n",
    "\n",
    "You may assume that each input would have exactly one solution, and you may not use the same element twice.\n",
    "\n",
    "You can return the answer in any order.\n",
    "\n",
    "Example:\n",
    "Input: nums = [2,7,11,15], target = 9\n",
    "Output0 [0,1]\n",
    "\n",
    "Explanation:Because nums[0] + nums[1] == 9, we return [0, 1]"
   ]
  },
  {
   "cell_type": "code",
   "execution_count": 2,
   "id": "102d757f",
   "metadata": {},
   "outputs": [
    {
     "name": "stdout",
     "output_type": "stream",
     "text": [
      "2,7,11,15\n",
      "9\n",
      "(0, 1)\n"
     ]
    }
   ],
   "source": [
    "def int_sum(nums,target):\n",
    "    for i in range(0,len(nums)-1):\n",
    "        if nums[i]+nums[i+1]==9:\n",
    "            return i,i+1\n",
    "\n",
    "nums=list(map(int,input().split(',')))\n",
    "target=int(input())\n",
    "print(int_sum(nums,target))\n",
    "        \n",
    "        "
   ]
  },
  {
   "cell_type": "code",
   "execution_count": 4,
   "id": "87cc7ef2",
   "metadata": {},
   "outputs": [
    {
     "name": "stdout",
     "output_type": "stream",
     "text": [
      "2,7,11,15\n",
      "9\n",
      "[0, 1]\n"
     ]
    }
   ],
   "source": [
    "def int_sum_m(nums, target):\n",
    "        seen = {}\n",
    "        for i, v in enumerate(nums):\n",
    "            remaining = target - v\n",
    "            if remaining in seen:\n",
    "                return [seen[remaining], i]\n",
    "            seen[v] = i\n",
    "        return []\n",
    "nums=list(map(int,input().split(',')))\n",
    "target=int(input())\n",
    "print(int_sum_m(nums,target))"
   ]
  },
  {
   "cell_type": "code",
   "execution_count": null,
   "id": "0732d427",
   "metadata": {},
   "outputs": [],
   "source": [
    "Q3.Given a sorted array of distinct integers and a target value, return the index if the target is found. If not, return the index where it would be if it were inserted in order.\n",
    "\n",
    "You must write an algorithm with O(log n) runtime complexity.\n",
    "\n",
    "Example 1:\n",
    "Input: nums = [1,3,5,6], target = 5\n",
    "\n",
    "Output: 2"
   ]
  },
  {
   "cell_type": "code",
   "execution_count": 9,
   "id": "fd3fe90c",
   "metadata": {},
   "outputs": [
    {
     "name": "stdout",
     "output_type": "stream",
     "text": [
      "1,3,5,6\n",
      "5\n",
      "2\n"
     ]
    }
   ],
   "source": [
    "def binary_search(nums,target):\n",
    "    l=0\n",
    "    r=len(nums)-1\n",
    "    \n",
    "    while(l<=r):\n",
    "        mid = l + (r - l) // 2\n",
    " \n",
    "        if nums[mid] == target:\n",
    "            return mid\n",
    "        elif nums[mid] < target:\n",
    "            l=mid + 1\n",
    "        else:\n",
    "            r=mid - 1\n",
    "    return -1\n",
    "        \n",
    "\n",
    "nums=list(map(int,input().split(',')))\n",
    "target=int(input())\n",
    "print(binary_search(nums,target))"
   ]
  },
  {
   "cell_type": "code",
   "execution_count": null,
   "id": "51076ec9",
   "metadata": {},
   "outputs": [],
   "source": [
    "Q2.Given an integer array nums and an integer val, remove all occurrences of val in nums in-place. The order of the elements may be changed. Then return the number of elements in nums which are not equal to val.\n",
    "\n",
    "Consider the number of elements in nums which are not equal to val be k, to get accepted, you need to do the following things:\n",
    "\n",
    "- Change the array nums such that the first k elements of nums contain the elements which are not equal to val. The remaining elements of nums are not important as well as the size of nums.\n",
    "- Return k.\n",
    "\n",
    "Example :\n",
    "Input: nums = [3,2,2,3], val = 3\n",
    "Output: 2, nums = [2,2,_,_]\n",
    "\n",
    "Explanation: Your function should return k = 2, with the first two elements of nums being 2. It does not matter what you leave beyond the returned k (hence they are underscores)[\n"
   ]
  },
  {
   "cell_type": "code",
   "execution_count": 16,
   "id": "7993f675",
   "metadata": {},
   "outputs": [
    {
     "name": "stdout",
     "output_type": "stream",
     "text": [
      "2\n"
     ]
    }
   ],
   "source": [
    "def rE(nums, val):\n",
    "    count = 0\n",
    "    for i in range(len(nums)):\n",
    "        if nums[i] != val:\n",
    "            nums[count] = nums[i]\n",
    "            count += 1\n",
    "    return count\n",
    "nums = [3,2,2,3]\n",
    "val = 3\n",
    "print(rE(nums,val))"
   ]
  },
  {
   "cell_type": "code",
   "execution_count": null,
   "id": "8afdd3ff",
   "metadata": {},
   "outputs": [],
   "source": [
    "Q4. You are given a large integer represented as an integer array digits, where each digits[i] is the ith digit of the integer. The digits are ordered from most significant to least significant in left-to-right order. The large integer does not contain any leading 0's.\n",
    "\n",
    "Increment the large integer by one and return the resulting array of digits.\n",
    "\n",
    "Example 1:\n",
    "Input: digits = [1,2,3]\n",
    "Output: [1,2,4]\n",
    "\n",
    "Explanation: The array represents the integer 123.\n",
    "\n",
    "Incrementing by one gives 123 + 1 = 124.\n",
    "Thus, the result should be [1,2,4]."
   ]
  },
  {
   "cell_type": "code",
   "execution_count": 17,
   "id": "7dc74395",
   "metadata": {},
   "outputs": [
    {
     "name": "stdout",
     "output_type": "stream",
     "text": [
      "1,2,3\n",
      "[1, 2, 4]\n"
     ]
    }
   ],
   "source": [
    "def po(digits):\n",
    "    digits_integer = int(''.join(map(str,digits)))\n",
    "    digits_integer +=1\n",
    "    return [int(x) for x in str(digits_integer)]\n",
    "digits=list(map(int,input().split(\",\")))\n",
    "print(po(digits))\n"
   ]
  },
  {
   "cell_type": "code",
   "execution_count": null,
   "id": "351de3ea",
   "metadata": {},
   "outputs": [],
   "source": [
    "\n",
    "Q5.You are given two integer arrays nums1 and nums2, sorted in non-decreasing order, and two integers m and n, representing the number of elements in nums1 and nums2 respectively.\n",
    "\n",
    "Merge nums1 and nums2 into a single array sorted in non-decreasing order.\n",
    "\n",
    "The final sorted array should not be returned by the function, but instead be stored inside the array nums1. To accommodate this, nums1 has a length of m + n, where the first m elements denote the elements that should be merged, and the last n elements are set to 0 and should be ignored. nums2 has a length of n.\n",
    "\n",
    "Example 1:\n",
    "Input: nums1 = [1,2,3,0,0,0], m = 3, nums2 = [2,5,6], n = 3\n",
    "Output: [1,2,2,3,5,6]\n",
    "\n",
    "Explanation: The arrays we are merging are [1,2,3] and [2,5,6].\n",
    "The result of the merge is [1,2,2,3,5,6] with the underlined elements coming from nums1.\n"
   ]
  },
  {
   "cell_type": "code",
   "execution_count": 23,
   "id": "65d1a4c0",
   "metadata": {},
   "outputs": [
    {
     "name": "stdout",
     "output_type": "stream",
     "text": [
      "[1, 2, 2, 3, 5, 6]\n"
     ]
    }
   ],
   "source": [
    "def merge(nums1, m, nums2, n):\n",
    "    for j in range(n):\n",
    "        nums1[m+j] = nums2[j]\n",
    "    nums1.sort()\n",
    "    print(nums1)\n",
    "nums1=[1,2,3,0,0,0]\n",
    "m=3 \n",
    "nums2=[2,5,6]\n",
    "n=3\n",
    "merge(nums1, m, nums2, n)"
   ]
  },
  {
   "cell_type": "code",
   "execution_count": null,
   "id": "e6ae9fc6",
   "metadata": {},
   "outputs": [],
   "source": [
    "\n",
    "Q6.Given an integer array nums, return true if any value appears at least twice in the array, and return false if every element is distinct.\n",
    "\n",
    "Example 1:\n",
    "Input: nums = [1,2,3,1]\n",
    "\n",
    "Output: true"
   ]
  },
  {
   "cell_type": "code",
   "execution_count": 26,
   "id": "fdc4e572",
   "metadata": {},
   "outputs": [
    {
     "name": "stdout",
     "output_type": "stream",
     "text": [
      "False\n"
     ]
    }
   ],
   "source": [
    "def a(nums):\n",
    "    s=list(set(nums))\n",
    "    if s==nums:\n",
    "        print(\"True\")\n",
    "    else:\n",
    "        print(\"False\")\n",
    "nums=[1,2,3,1]\n",
    "a(nums)"
   ]
  },
  {
   "cell_type": "code",
   "execution_count": null,
   "id": "fdd74816",
   "metadata": {},
   "outputs": [],
   "source": [
    "\n",
    "Q7.Given an integer array nums, move all 0's to the end of it while maintaining the relative order of the nonzero elements.\n",
    "\n",
    "Note that you must do this in-place without making a copy of the array.\n",
    "\n",
    "Example 1:\n",
    "Input: nums = [0,1,0,3,12]\n",
    "Output: [1,3,12,0,0]"
   ]
  },
  {
   "cell_type": "code",
   "execution_count": 35,
   "id": "eca840c4",
   "metadata": {},
   "outputs": [
    {
     "name": "stdout",
     "output_type": "stream",
     "text": [
      "[12, 1, 3, 0, 0]\n"
     ]
    }
   ],
   "source": [
    "def b(nums):\n",
    "    i=0\n",
    "    j=len(nums)-1\n",
    "    while(i<=j):\n",
    "        if nums[i]==0:\n",
    "            temp=nums[j]\n",
    "            nums[j]=nums[i]\n",
    "            nums[i]=temp\n",
    "            j=j-1\n",
    "        elif nums[i]!=0:\n",
    "            i=i+1\n",
    "    print(nums)\n",
    "        \n",
    "    \n",
    "nums = [0,1,0,3,12]\n",
    "b(nums)"
   ]
  },
  {
   "cell_type": "code",
   "execution_count": null,
   "id": "3fd5d26a",
   "metadata": {},
   "outputs": [],
   "source": [
    "\n",
    "Q8.You have a set of integers s, which originally contains all the numbers from 1 to n. Unfortunately, due to some error, one of the numbers in s got duplicated to another number in the set, which results in repetition of one number and loss of another number.\n",
    "\n",
    "You are given an integer array nums representing the data status of this set after the error.\n",
    "\n",
    "Find the number that occurs twice and the number that is missing and return them in the form of an array.\n",
    "\n",
    "Example 1:\n",
    "Input: nums = [1,2,2,4]\n",
    "Output: [2,3]"
   ]
  },
  {
   "cell_type": "code",
   "execution_count": 36,
   "id": "d4772761",
   "metadata": {},
   "outputs": [
    {
     "name": "stdout",
     "output_type": "stream",
     "text": [
      "[2, 3]\n"
     ]
    }
   ],
   "source": [
    "def findError(nums):\n",
    "    n = len(nums)\n",
    "    a = sum(nums)\n",
    "    b = sum(set(nums))\n",
    "    c = (n*(n+1))//2\n",
    "    return [a-b,c-b]\n",
    "\n",
    "nums = [1,2,2,34]\n",
    "\n",
    "print(findError(nums))"
   ]
  }
 ],
 "metadata": {
  "kernelspec": {
   "display_name": "Python 3 (ipykernel)",
   "language": "python",
   "name": "python3"
  },
  "language_info": {
   "codemirror_mode": {
    "name": "ipython",
    "version": 3
   },
   "file_extension": ".py",
   "mimetype": "text/x-python",
   "name": "python",
   "nbconvert_exporter": "python",
   "pygments_lexer": "ipython3",
   "version": "3.9.12"
  }
 },
 "nbformat": 4,
 "nbformat_minor": 5
}
