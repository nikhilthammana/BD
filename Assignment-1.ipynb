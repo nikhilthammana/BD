{
 "cells": [
  {
   "cell_type": "markdown",
   "id": "7ccb2de7",
   "metadata": {},
   "source": [
    "## Assignment Part-1"
   ]
  },
  {
   "cell_type": "code",
   "execution_count": null,
   "id": "af5c5fa3",
   "metadata": {},
   "outputs": [],
   "source": [
    "Q1. Why do we call Python as a general purpose and high-level programming language?\n",
    "A) -> python is a general purpose language because it is used widely used across the world for variety of development tasks\n",
    "   -> python supports scripting also\n",
    "\n",
    "      ->it is used for webapplication,desktopapplications,cybersecurity,\n",
    "         emergingtechnologies(Artifical intelligence,Machine learning,datascience etc..,)\n",
    "   -> python is a high-level programming language because the syntax of python is so closely to english language \n",
    "      which means more readable to humans and less readable to computers\n",
    "\n"
   ]
  },
  {
   "cell_type": "code",
   "execution_count": 11,
   "id": "bd630148",
   "metadata": {},
   "outputs": [
    {
     "name": "stdout",
     "output_type": "stream",
     "text": [
      "3\n",
      "<class 'int'>\n",
      "After changing the variable value\n",
      "Nikhil\n",
      "<class 'str'>\n"
     ]
    }
   ],
   "source": [
    "\"\"\"\n",
    "Q2. Why is Python called a dynamically typed language?\n",
    "A)  python is a dynamically typed language this means that the python interpreter does type checking only as code runs,\n",
    "    and the type of varaible is allowed to change over its life time\n",
    "    Example\n",
    "\"\"\"\n",
    "#without declaring a variable\n",
    "print(1+2)\n",
    "#with declaring a variable\n",
    "a=5\n",
    "b=type(a)\n",
    "#class 'int'\n",
    "print(b)\n",
    "\n",
    "print(\"After changing the variable value\")\n",
    "a=\"Nikhil\"\n",
    "print(a)\n",
    "print(type(a))\n",
    "#class 'str'"
   ]
  },
  {
   "cell_type": "code",
   "execution_count": null,
   "id": "799d7e54",
   "metadata": {},
   "outputs": [],
   "source": [
    "Q3. List some pros and cons of Python programming language?\n",
    "A)   pros:\n",
    "        1)it is very easy to read and learn code.\n",
    "        2)it is open source.\n",
    "        3)it supports static and dynamically typed\n",
    "        4)Huge libraries and modules supports\n",
    "    cons:\n",
    "        1)it is very slow because of interpreter(interpreter is slower than compiler)\n",
    "        2)Not memory efficient\n",
    "        3)runtime errors"
   ]
  },
  {
   "cell_type": "code",
   "execution_count": null,
   "id": "dfb3e8d8",
   "metadata": {},
   "outputs": [],
   "source": [
    "Q4. In what all domains can we use Python?\n",
    "A)  python is used in web development,operating systems,AI,machine learning,data science and game development"
   ]
  },
  {
   "cell_type": "code",
   "execution_count": null,
   "id": "9067caa5",
   "metadata": {},
   "outputs": [],
   "source": [
    "Q5. What are variable and how can we declare them?\n",
    "A)  variable is a reserved memory location to store values.\n",
    "    syntax:\n",
    "        variablename=value\n",
    "        #no need to mention data type before declaring the variable in python\n"
   ]
  },
  {
   "cell_type": "code",
   "execution_count": 7,
   "id": "ae8982ea",
   "metadata": {},
   "outputs": [
    {
     "name": "stdout",
     "output_type": "stream",
     "text": [
      "1\n",
      "the a value is: 1\n",
      "hello\n",
      "the b value is: hello\n",
      "2.5\n",
      "The c value is: 2.5\n"
     ]
    }
   ],
   "source": [
    "\"\"\"\n",
    "Q6. How can we take an input from the user in Python?\n",
    "A)  By using input function\n",
    "    syntax:\n",
    "          variablename=datatype(input())\n",
    "    examples:\n",
    "\"\"\"\n",
    "#Integers\n",
    "a=int(input())\n",
    "print(\"the a value is:\",a)\n",
    "#strings\n",
    "b=input()# or b=str(input())\n",
    "print(\"the b value is:\",b)\n",
    "#float\n",
    "c=float(input())\n",
    "print(\"The c value is:\",c)"
   ]
  },
  {
   "cell_type": "code",
   "execution_count": null,
   "id": "a7ab9aa6",
   "metadata": {},
   "outputs": [],
   "source": [
    "Q7. What is the default datatype of the value that has been taken as an input using input() function?\n",
    "A)  the default type of input function is string"
   ]
  },
  {
   "cell_type": "code",
   "execution_count": 12,
   "id": "8588f921",
   "metadata": {},
   "outputs": [
    {
     "name": "stdout",
     "output_type": "stream",
     "text": [
      "Implict type casting: 7.5 <class 'int'> <class 'float'> <class 'float'>\n",
      "Explict type casting: 5 <class 'int'> <class 'str'> <class 'int'>\n"
     ]
    }
   ],
   "source": [
    "\"\"\"\n",
    "Q8. What is type casting?\n",
    "A)  converting one data type  into another is called type casting\n",
    "    it is again divided into types:\n",
    "        1)implict type casting: it automatically converts one type to another\n",
    "        2)explict type casting: user need to specify datatype for converting one data type to another\n",
    "\"\"\"\n",
    "#implict type casting\n",
    "a=5\n",
    "b=2.5\n",
    "c=a+b\n",
    "print(\"Implict type casting:\",c,type(a),type(b),type(c))\n",
    "#Implict type casting: 7.5 class 'int' class 'float' class 'float'\n",
    "\n",
    "\n",
    "#Explict type casting\n",
    "\n",
    "\n",
    "f=1\n",
    "d=\"4\"\n",
    "e=f+int(d)\n",
    "print(\"Explict type casting:\",e,type(f),type(d),type(e))\n",
    "#Explict type casting: 5 class 'int' class 'str' class 'int'\n",
    "        "
   ]
  },
  {
   "cell_type": "code",
   "execution_count": null,
   "id": "cf9ceed9",
   "metadata": {},
   "outputs": [],
   "source": [
    "Q9. Can we take more than one input from the user using single input() function? If yes, how? If no, why?\n",
    "A)  yes , we can take multiple inputs from user\n",
    "    example:\n",
    "        Strings:\n",
    "        a,b=input().split()\n",
    "        lists:\n",
    "        a=list(input().split())\n",
    "        #we can access the elements in list through index"
   ]
  },
  {
   "cell_type": "code",
   "execution_count": 26,
   "id": "4bd09c06",
   "metadata": {},
   "outputs": [
    {
     "name": "stdout",
     "output_type": "stream",
     "text": [
      "['False', 'None', 'True', '__peg_parser__', 'and', 'as', 'assert', 'async', 'await', 'break', 'class', 'continue', 'def', 'del', 'elif', 'else', 'except', 'finally', 'for', 'from', 'global', 'if', 'import', 'in', 'is', 'lambda', 'nonlocal', 'not', 'or', 'pass', 'raise', 'return', 'try', 'while', 'with', 'yield']\n",
      "Total no of keywords present in python are: 36\n"
     ]
    }
   ],
   "source": [
    "\"\"\"\n",
    "Q10. What are keywords?\n",
    "A)keywords are resorved words in python we cant use keywords as a varaible,every keyword having specified meaning it\n",
    "  to check the keywords that are present in python are:\n",
    "\"\"\"\n",
    "import keyword\n",
    "print(keyword.kwlist)\n",
    "print(\"Total no of keywords present in python are:\",len(keyword.kwlist))"
   ]
  },
  {
   "cell_type": "code",
   "execution_count": null,
   "id": "0a814dfb",
   "metadata": {},
   "outputs": [],
   "source": [
    "Q11. Can we use keywords as a variable? Support your answer with reason.\n",
    "A) we cant use keywords as a varaible because keywords are having specified meaning so python does not allow and \n",
    "   if we declare it throws an error\n",
    "\n"
   ]
  },
  {
   "cell_type": "code",
   "execution_count": null,
   "id": "b50440d5",
   "metadata": {},
   "outputs": [],
   "source": [
    "Q12. What is indentation? What's the use of indentaion in Python?\n",
    "A)indentions are nothing but spaces,the use of indentation in python is to indicate block of code\n",
    "  example:\n",
    "          if True:\n",
    "                #block of code\n",
    " indentaition   print(\"Helloworld\")\n",
    "                print(\"Helloworld\")"
   ]
  },
  {
   "cell_type": "code",
   "execution_count": 28,
   "id": "9c483026",
   "metadata": {},
   "outputs": [],
   "source": [
    "Q13. How can we throw some output in Python?\n",
    "A)by using print function"
   ]
  },
  {
   "cell_type": "code",
   "execution_count": null,
   "id": "8b2d3c3c",
   "metadata": {},
   "outputs": [],
   "source": [
    "Q14. What are operators in Python?\n",
    "A)operators are special symbols in python that acarry out arthematic and logical computation\n",
    "  types of operators:\n",
    "        1)Arthematic operator:+,-,*,/,//\n",
    "        2)logical operator:And,or,not\n",
    "        3)relational or camparison operator:>=,<=,>,<,==,!=\n",
    "        4)assignment operator:=,+=,-=,*=,/=\n",
    "        5)bitwise operator:&,|,>>,<<,~,^\n",
    "        6)ternary operator:[True] if [expression] else [False]\n",
    "        7)identity operator:is,is not\n",
    "        8)member ship operator:in,not in\n",
    "        "
   ]
  },
  {
   "cell_type": "code",
   "execution_count": null,
   "id": "8c57ef20",
   "metadata": {},
   "outputs": [],
   "source": [
    "Q15. What is difference between / and // operators?\n",
    "A)   /-> float divison:return float value\n",
    "     //->integer floor divison:return only integer value"
   ]
  },
  {
   "cell_type": "code",
   "execution_count": 35,
   "id": "d22ab69f",
   "metadata": {},
   "outputs": [
    {
     "name": "stdout",
     "output_type": "stream",
     "text": [
      "iNeuroniNeuroniNeuroniNeuron\n",
      "iNeuroniNeuroniNeuroniNeuron\n"
     ]
    }
   ],
   "source": [
    "\"\"\"\n",
    "Q16. Write a code that gives following as an output\n",
    "\"\"\"\n",
    "print(\"iNeuroniNeuroniNeuroniNeuron\")\n",
    "#method2\n",
    "No_of_times=4\n",
    "print('iNeuron'*No_of_times)\n"
   ]
  },
  {
   "cell_type": "code",
   "execution_count": 36,
   "id": "13099cd6",
   "metadata": {},
   "outputs": [
    {
     "name": "stdout",
     "output_type": "stream",
     "text": [
      "Enter a number:4\n",
      "The number is even\n"
     ]
    }
   ],
   "source": [
    "\"\"\"\n",
    "Q17. Write a code to take a number as an input from the user and check if the number is odd or even.\n",
    "\"\"\"\n",
    "a=int(input(\"Enter a number:\"))\n",
    "if a%2==0:\n",
    "    print(\"The number is even\")\n",
    "else:\n",
    "    print(\"The number is odd\")"
   ]
  },
  {
   "cell_type": "code",
   "execution_count": null,
   "id": "3af2caea",
   "metadata": {},
   "outputs": [],
   "source": [
    "Q18. What are boolean operator?\n",
    "A)And,or,not"
   ]
  },
  {
   "cell_type": "code",
   "execution_count": null,
   "id": "43cbcf00",
   "metadata": {},
   "outputs": [],
   "source": [
    "Q19. What will the output of the following?\n",
    "```\n",
    "1 or 0=1\n",
    "\n",
    "0 and 0=0\n",
    "\n",
    "True and False and True=False\n",
    "\n",
    "1 or 0 or 0=1\n",
    "```\n"
   ]
  },
  {
   "cell_type": "code",
   "execution_count": null,
   "id": "8fd27074",
   "metadata": {},
   "outputs": [],
   "source": [
    "Q20. What are conditional statements in Python?\n",
    "A)if, else if ,else are the conditional statement which control the excution of the program"
   ]
  },
  {
   "cell_type": "code",
   "execution_count": null,
   "id": "b1018d3e",
   "metadata": {},
   "outputs": [],
   "source": [
    "Q21. What is use of 'if', 'elif' and 'else' keywords?\n",
    "A)if-the body in if excutes only evalutes true\n",
    "  elif-it allows you to check multiple expressions for true\n",
    "  else-the body in else excuted when condition is false"
   ]
  },
  {
   "cell_type": "code",
   "execution_count": 44,
   "id": "62f08d67",
   "metadata": {},
   "outputs": [
    {
     "name": "stdout",
     "output_type": "stream",
     "text": [
      "Enter the age of a person:15\n",
      "I can't vote\n",
      "Enter the age of a person:18\n",
      "I can vote\n"
     ]
    }
   ],
   "source": [
    "\"\"\"\n",
    "Q22. Write a code to take the age of person as an input and if age >= 18 display \"I can vote\". \n",
    "    If age is < 18 display \"I can't vote\".\n",
    "\"\"\"\n",
    "#method-1\n",
    "a=int(input(\"Enter the age of a person:\"))\n",
    "if a>=18:\n",
    "    print(\"I can vote\")\n",
    "else:\n",
    "    print('I can\\'t vote')\n",
    "\n",
    "#method-2\n",
    "\n",
    "a=int(input(\"Enter the age of a person:\"))\n",
    "b=\"I can vote\" if a>=18 else \"I can't vote\"\n",
    "print(b)\n"
   ]
  },
  {
   "cell_type": "code",
   "execution_count": 49,
   "id": "814994b7",
   "metadata": {},
   "outputs": [
    {
     "name": "stdout",
     "output_type": "stream",
     "text": [
      "392\n",
      "392\n"
     ]
    }
   ],
   "source": [
    "\"\"\"\n",
    "Q23. Write a code that displays the sum of all the even numbers from the given list.\n",
    "```\n",
    "numbers = [12, 75, 150, 180, 145, 525, 50]\n",
    "```\n",
    "\"\"\"\n",
    "numbers = [12, 75, 150, 180, 145, 525, 50]\n",
    "#method-1\n",
    "sum_of_numbers=0\n",
    "for i in numbers:\n",
    "    if i%2==0:\n",
    "        sum_of_numbers+=i\n",
    "print(sum_of_numbers)\n",
    "\n",
    "#method-2\n",
    "b=sum(list(filter(lambda x:x%2==0,numbers)))\n",
    "print(b)"
   ]
  },
  {
   "cell_type": "code",
   "execution_count": 62,
   "id": "a6598c81",
   "metadata": {},
   "outputs": [
    {
     "name": "stdout",
     "output_type": "stream",
     "text": [
      "11\n",
      "13\n",
      "14\n",
      "a3=14 is greater than or equal to a1 and a2\n",
      "Method-2\n",
      "11 11 11\n",
      "a1=11 is greater than or equal to a2 and a3\n"
     ]
    }
   ],
   "source": [
    "\"\"\"\n",
    "Q24. Write a code to take 3 numbers as an input from the user and display the greatest no as output.\n",
    "\"\"\"\n",
    "#method 1\n",
    "a1=int(input())\n",
    "a2=int(input())\n",
    "a3=int(input())\n",
    "if a1>=a2 and a1>=a3:\n",
    "    print(f'a1={a1} is greater than or equal to a2 and a3')\n",
    "elif(a2>=a1 and a2>=a3):\n",
    "     print(f'a2={a2} is greater than or equal to a3 and a1')\n",
    "else:\n",
    "    print(f'a3={a3} is greater than or equal to a1 and a2')\n",
    "\n",
    "#method 2\n",
    "print(\"Method-2\")\n",
    "a=tuple(map(int,input().split()))[:3]\n",
    "a1,a2,a3=a\n",
    "if a1>=a2 and a1>=a3:\n",
    "    print(f'a1={a1} is greater than or equal to a2 and a3')\n",
    "elif(a2>=a1 and a2>=a3):\n",
    "    print(f'a2={a2} is greater than or equal to a3 and a1')\n",
    "else:\n",
    "    print(f'a3={a3} is greater than or equal to a1 and a2')\n"
   ]
  },
  {
   "cell_type": "code",
   "execution_count": 64,
   "id": "1de65d0c",
   "metadata": {},
   "outputs": [
    {
     "name": "stdout",
     "output_type": "stream",
     "text": [
      "75\n",
      "150\n",
      "145\n"
     ]
    }
   ],
   "source": [
    "\"\"\"\n",
    "Q25. Write a program to display only those numbers from a list that satisfy the following conditions\n",
    "\n",
    "- The number must be divisible by five\n",
    "\n",
    "- If the number is greater than 150, then skip it and move to the next number\n",
    "\n",
    "- If the number is greater than 500, then stop the loop\n",
    "```\n",
    "numbers = [12, 75, 150, 180, 145, 525, 50]\n",
    "```\n",
    "\"\"\"\n",
    "numbers = [12, 75, 150, 180, 145, 525, 50]\n",
    "i=0\n",
    "while(i<len(numbers)):\n",
    "    if(numbers[i]%5==0):\n",
    "        if(numbers[i]<=150):\n",
    "            print(numbers[i])\n",
    "        elif(numbers[i]>500):\n",
    "             break\n",
    "    i=i+1\n",
    "    "
   ]
  },
  {
   "cell_type": "code",
   "execution_count": null,
   "id": "5eedeff0",
   "metadata": {},
   "outputs": [],
   "source": []
  }
 ],
 "metadata": {
  "kernelspec": {
   "display_name": "Python 3 (ipykernel)",
   "language": "python",
   "name": "python3"
  },
  "language_info": {
   "codemirror_mode": {
    "name": "ipython",
    "version": 3
   },
   "file_extension": ".py",
   "mimetype": "text/x-python",
   "name": "python",
   "nbconvert_exporter": "python",
   "pygments_lexer": "ipython3",
   "version": "3.9.12"
  }
 },
 "nbformat": 4,
 "nbformat_minor": 5
}
